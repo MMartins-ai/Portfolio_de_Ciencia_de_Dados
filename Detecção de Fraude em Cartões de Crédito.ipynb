{
 "cells": [
  {
   "cell_type": "markdown",
   "id": "9872dc27",
   "metadata": {
    "id": "9872dc27"
   },
   "source": [
    "# Modelo de Detecção de Fraude em Cartão de Crédito\n",
    "Mateus de Sousa Martins\n",
    "\n",
    "mateus.martins8605@gmail.com"
   ]
  },
  {
   "cell_type": "code",
   "execution_count": 1,
   "id": "a01e42c4",
   "metadata": {
    "id": "a01e42c4"
   },
   "outputs": [],
   "source": [
    "#importando bibliotecas \n",
    "import numpy as np\n",
    "import pandas as pd\n",
    "import seaborn as sns\n",
    "import matplotlib.pyplot as plt"
   ]
  },
  {
   "cell_type": "code",
   "execution_count": 2,
   "id": "a0b1da7a",
   "metadata": {
    "colab": {
     "base_uri": "https://localhost:8080/",
     "height": 300
    },
    "id": "a0b1da7a",
    "outputId": "176d8bfd-9172-4002-bc9b-07e654707030"
   },
   "outputs": [
    {
     "data": {
      "text/html": [
       "<div>\n",
       "<style scoped>\n",
       "    .dataframe tbody tr th:only-of-type {\n",
       "        vertical-align: middle;\n",
       "    }\n",
       "\n",
       "    .dataframe tbody tr th {\n",
       "        vertical-align: top;\n",
       "    }\n",
       "\n",
       "    .dataframe thead th {\n",
       "        text-align: right;\n",
       "    }\n",
       "</style>\n",
       "<table border=\"1\" class=\"dataframe\">\n",
       "  <thead>\n",
       "    <tr style=\"text-align: right;\">\n",
       "      <th></th>\n",
       "      <th>Time</th>\n",
       "      <th>V1</th>\n",
       "      <th>V2</th>\n",
       "      <th>V3</th>\n",
       "      <th>V4</th>\n",
       "      <th>V5</th>\n",
       "      <th>V6</th>\n",
       "      <th>V7</th>\n",
       "      <th>V8</th>\n",
       "      <th>V9</th>\n",
       "      <th>...</th>\n",
       "      <th>V21</th>\n",
       "      <th>V22</th>\n",
       "      <th>V23</th>\n",
       "      <th>V24</th>\n",
       "      <th>V25</th>\n",
       "      <th>V26</th>\n",
       "      <th>V27</th>\n",
       "      <th>V28</th>\n",
       "      <th>Amount</th>\n",
       "      <th>Class</th>\n",
       "    </tr>\n",
       "  </thead>\n",
       "  <tbody>\n",
       "    <tr>\n",
       "      <th>0</th>\n",
       "      <td>0.0</td>\n",
       "      <td>-1.359807</td>\n",
       "      <td>-0.072781</td>\n",
       "      <td>2.536347</td>\n",
       "      <td>1.378155</td>\n",
       "      <td>-0.338321</td>\n",
       "      <td>0.462388</td>\n",
       "      <td>0.239599</td>\n",
       "      <td>0.098698</td>\n",
       "      <td>0.363787</td>\n",
       "      <td>...</td>\n",
       "      <td>-0.018307</td>\n",
       "      <td>0.277838</td>\n",
       "      <td>-0.110474</td>\n",
       "      <td>0.066928</td>\n",
       "      <td>0.128539</td>\n",
       "      <td>-0.189115</td>\n",
       "      <td>0.133558</td>\n",
       "      <td>-0.021053</td>\n",
       "      <td>149.62</td>\n",
       "      <td>0</td>\n",
       "    </tr>\n",
       "    <tr>\n",
       "      <th>1</th>\n",
       "      <td>0.0</td>\n",
       "      <td>1.191857</td>\n",
       "      <td>0.266151</td>\n",
       "      <td>0.166480</td>\n",
       "      <td>0.448154</td>\n",
       "      <td>0.060018</td>\n",
       "      <td>-0.082361</td>\n",
       "      <td>-0.078803</td>\n",
       "      <td>0.085102</td>\n",
       "      <td>-0.255425</td>\n",
       "      <td>...</td>\n",
       "      <td>-0.225775</td>\n",
       "      <td>-0.638672</td>\n",
       "      <td>0.101288</td>\n",
       "      <td>-0.339846</td>\n",
       "      <td>0.167170</td>\n",
       "      <td>0.125895</td>\n",
       "      <td>-0.008983</td>\n",
       "      <td>0.014724</td>\n",
       "      <td>2.69</td>\n",
       "      <td>0</td>\n",
       "    </tr>\n",
       "    <tr>\n",
       "      <th>2</th>\n",
       "      <td>1.0</td>\n",
       "      <td>-1.358354</td>\n",
       "      <td>-1.340163</td>\n",
       "      <td>1.773209</td>\n",
       "      <td>0.379780</td>\n",
       "      <td>-0.503198</td>\n",
       "      <td>1.800499</td>\n",
       "      <td>0.791461</td>\n",
       "      <td>0.247676</td>\n",
       "      <td>-1.514654</td>\n",
       "      <td>...</td>\n",
       "      <td>0.247998</td>\n",
       "      <td>0.771679</td>\n",
       "      <td>0.909412</td>\n",
       "      <td>-0.689281</td>\n",
       "      <td>-0.327642</td>\n",
       "      <td>-0.139097</td>\n",
       "      <td>-0.055353</td>\n",
       "      <td>-0.059752</td>\n",
       "      <td>378.66</td>\n",
       "      <td>0</td>\n",
       "    </tr>\n",
       "    <tr>\n",
       "      <th>3</th>\n",
       "      <td>1.0</td>\n",
       "      <td>-0.966272</td>\n",
       "      <td>-0.185226</td>\n",
       "      <td>1.792993</td>\n",
       "      <td>-0.863291</td>\n",
       "      <td>-0.010309</td>\n",
       "      <td>1.247203</td>\n",
       "      <td>0.237609</td>\n",
       "      <td>0.377436</td>\n",
       "      <td>-1.387024</td>\n",
       "      <td>...</td>\n",
       "      <td>-0.108300</td>\n",
       "      <td>0.005274</td>\n",
       "      <td>-0.190321</td>\n",
       "      <td>-1.175575</td>\n",
       "      <td>0.647376</td>\n",
       "      <td>-0.221929</td>\n",
       "      <td>0.062723</td>\n",
       "      <td>0.061458</td>\n",
       "      <td>123.50</td>\n",
       "      <td>0</td>\n",
       "    </tr>\n",
       "    <tr>\n",
       "      <th>4</th>\n",
       "      <td>2.0</td>\n",
       "      <td>-1.158233</td>\n",
       "      <td>0.877737</td>\n",
       "      <td>1.548718</td>\n",
       "      <td>0.403034</td>\n",
       "      <td>-0.407193</td>\n",
       "      <td>0.095921</td>\n",
       "      <td>0.592941</td>\n",
       "      <td>-0.270533</td>\n",
       "      <td>0.817739</td>\n",
       "      <td>...</td>\n",
       "      <td>-0.009431</td>\n",
       "      <td>0.798278</td>\n",
       "      <td>-0.137458</td>\n",
       "      <td>0.141267</td>\n",
       "      <td>-0.206010</td>\n",
       "      <td>0.502292</td>\n",
       "      <td>0.219422</td>\n",
       "      <td>0.215153</td>\n",
       "      <td>69.99</td>\n",
       "      <td>0</td>\n",
       "    </tr>\n",
       "  </tbody>\n",
       "</table>\n",
       "<p>5 rows × 31 columns</p>\n",
       "</div>"
      ],
      "text/plain": [
       "   Time        V1        V2        V3        V4        V5        V6        V7  \\\n",
       "0   0.0 -1.359807 -0.072781  2.536347  1.378155 -0.338321  0.462388  0.239599   \n",
       "1   0.0  1.191857  0.266151  0.166480  0.448154  0.060018 -0.082361 -0.078803   \n",
       "2   1.0 -1.358354 -1.340163  1.773209  0.379780 -0.503198  1.800499  0.791461   \n",
       "3   1.0 -0.966272 -0.185226  1.792993 -0.863291 -0.010309  1.247203  0.237609   \n",
       "4   2.0 -1.158233  0.877737  1.548718  0.403034 -0.407193  0.095921  0.592941   \n",
       "\n",
       "         V8        V9  ...       V21       V22       V23       V24       V25  \\\n",
       "0  0.098698  0.363787  ... -0.018307  0.277838 -0.110474  0.066928  0.128539   \n",
       "1  0.085102 -0.255425  ... -0.225775 -0.638672  0.101288 -0.339846  0.167170   \n",
       "2  0.247676 -1.514654  ...  0.247998  0.771679  0.909412 -0.689281 -0.327642   \n",
       "3  0.377436 -1.387024  ... -0.108300  0.005274 -0.190321 -1.175575  0.647376   \n",
       "4 -0.270533  0.817739  ... -0.009431  0.798278 -0.137458  0.141267 -0.206010   \n",
       "\n",
       "        V26       V27       V28  Amount  Class  \n",
       "0 -0.189115  0.133558 -0.021053  149.62      0  \n",
       "1  0.125895 -0.008983  0.014724    2.69      0  \n",
       "2 -0.139097 -0.055353 -0.059752  378.66      0  \n",
       "3 -0.221929  0.062723  0.061458  123.50      0  \n",
       "4  0.502292  0.219422  0.215153   69.99      0  \n",
       "\n",
       "[5 rows x 31 columns]"
      ]
     },
     "execution_count": 2,
     "metadata": {},
     "output_type": "execute_result"
    }
   ],
   "source": [
    "credit = pd.read_csv('creditcard.csv') #importando o arquivo csv obtidono site da Kaggle para mais informações https://www.kaggle.com/datasets/mlg-ulb/creditcardfraud\n",
    "credit.head() #visualizando as 5 primeiras linhas"
   ]
  },
  {
   "cell_type": "markdown",
   "id": "d12b5923",
   "metadata": {},
   "source": [
    "Conteúdo do DataFrame\n",
    "* Time indica o tempo, em segundos, que se passou desde a primeira transação registrada;\n",
    "* V1 a V28 passaram por uma transformação PCA para proteger os dados dos clientes, não é possível afirmar o que cada coluna significa;\n",
    "* Amount significa o valor da transação;\n",
    "* Class indica se houve ou não fraude, 0 se não houve, 1 caso contrário."
   ]
  },
  {
   "cell_type": "code",
   "execution_count": 3,
   "id": "450d7fc9",
   "metadata": {
    "colab": {
     "base_uri": "https://localhost:8080/"
    },
    "id": "450d7fc9",
    "outputId": "651df530-9a34-4816-9fe9-852ed33c399e"
   },
   "outputs": [
    {
     "name": "stdout",
     "output_type": "stream",
     "text": [
      "Temos 284807 amostra de dados.\n",
      "Existem 30 variáveis\n"
     ]
    }
   ],
   "source": [
    "print(f'Temos {credit.shape[0]} amostra de dados.')\n",
    "print(f'Existem {credit.shape[1]-1} variáveis') #-1 para excluir a coluna class, que não será uma variável e sim o alvo do modelo"
   ]
  },
  {
   "cell_type": "code",
   "execution_count": 4,
   "id": "22f4b408",
   "metadata": {
    "colab": {
     "base_uri": "https://localhost:8080/"
    },
    "id": "22f4b408",
    "outputId": "98082108-dfec-4dfb-bd69-6490c534a19a"
   },
   "outputs": [
    {
     "name": "stdout",
     "output_type": "stream",
     "text": [
      "A porcentagem de dados que indicam a ocorrência de fraude é de 0.17%\n"
     ]
    }
   ],
   "source": [
    "# Porcentagem de dados que indicam fraude\n",
    "print(f'A porcentagem de dados que indicam a ocorrência de fraude é de {credit[\"Class\"].mean()*100:.2f}%')"
   ]
  },
  {
   "cell_type": "code",
   "execution_count": 5,
   "id": "9eb04abb",
   "metadata": {
    "colab": {
     "base_uri": "https://localhost:8080/"
    },
    "id": "9eb04abb",
    "outputId": "4cbed4b9-eec8-442e-9974-14df9b947a8a"
   },
   "outputs": [
    {
     "data": {
      "text/plain": [
       "0    284315\n",
       "1       492\n",
       "Name: Class, dtype: int64"
      ]
     },
     "execution_count": 5,
     "metadata": {},
     "output_type": "execute_result"
    }
   ],
   "source": [
    "credit.Class.value_counts() # Existem 492 ocorrências de fraude"
   ]
  },
  {
   "cell_type": "code",
   "execution_count": 6,
   "id": "ad7cb937",
   "metadata": {
    "colab": {
     "base_uri": "https://localhost:8080/"
    },
    "id": "ad7cb937",
    "outputId": "f956be16-8831-41eb-ab51-cbe365bb0940"
   },
   "outputs": [
    {
     "name": "stdout",
     "output_type": "stream",
     "text": [
      "<class 'pandas.core.frame.DataFrame'>\n",
      "RangeIndex: 284807 entries, 0 to 284806\n",
      "Data columns (total 31 columns):\n",
      " #   Column  Non-Null Count   Dtype  \n",
      "---  ------  --------------   -----  \n",
      " 0   Time    284807 non-null  float64\n",
      " 1   V1      284807 non-null  float64\n",
      " 2   V2      284807 non-null  float64\n",
      " 3   V3      284807 non-null  float64\n",
      " 4   V4      284807 non-null  float64\n",
      " 5   V5      284807 non-null  float64\n",
      " 6   V6      284807 non-null  float64\n",
      " 7   V7      284807 non-null  float64\n",
      " 8   V8      284807 non-null  float64\n",
      " 9   V9      284807 non-null  float64\n",
      " 10  V10     284807 non-null  float64\n",
      " 11  V11     284807 non-null  float64\n",
      " 12  V12     284807 non-null  float64\n",
      " 13  V13     284807 non-null  float64\n",
      " 14  V14     284807 non-null  float64\n",
      " 15  V15     284807 non-null  float64\n",
      " 16  V16     284807 non-null  float64\n",
      " 17  V17     284807 non-null  float64\n",
      " 18  V18     284807 non-null  float64\n",
      " 19  V19     284807 non-null  float64\n",
      " 20  V20     284807 non-null  float64\n",
      " 21  V21     284807 non-null  float64\n",
      " 22  V22     284807 non-null  float64\n",
      " 23  V23     284807 non-null  float64\n",
      " 24  V24     284807 non-null  float64\n",
      " 25  V25     284807 non-null  float64\n",
      " 26  V26     284807 non-null  float64\n",
      " 27  V27     284807 non-null  float64\n",
      " 28  V28     284807 non-null  float64\n",
      " 29  Amount  284807 non-null  float64\n",
      " 30  Class   284807 non-null  int64  \n",
      "dtypes: float64(30), int64(1)\n",
      "memory usage: 67.4 MB\n"
     ]
    }
   ],
   "source": [
    "credit.info() #não há dados faltantes"
   ]
  },
  {
   "cell_type": "code",
   "execution_count": 7,
   "id": "bbc2f082",
   "metadata": {
    "colab": {
     "base_uri": "https://localhost:8080/",
     "height": 394
    },
    "id": "bbc2f082",
    "outputId": "f7e87bd4-33c5-43fb-914b-531a719e7491"
   },
   "outputs": [
    {
     "data": {
      "text/html": [
       "<div>\n",
       "<style scoped>\n",
       "    .dataframe tbody tr th:only-of-type {\n",
       "        vertical-align: middle;\n",
       "    }\n",
       "\n",
       "    .dataframe tbody tr th {\n",
       "        vertical-align: top;\n",
       "    }\n",
       "\n",
       "    .dataframe thead th {\n",
       "        text-align: right;\n",
       "    }\n",
       "</style>\n",
       "<table border=\"1\" class=\"dataframe\">\n",
       "  <thead>\n",
       "    <tr style=\"text-align: right;\">\n",
       "      <th></th>\n",
       "      <th>Time</th>\n",
       "      <th>V1</th>\n",
       "      <th>V2</th>\n",
       "      <th>V3</th>\n",
       "      <th>V4</th>\n",
       "      <th>V5</th>\n",
       "      <th>V6</th>\n",
       "      <th>V7</th>\n",
       "      <th>V8</th>\n",
       "      <th>V9</th>\n",
       "      <th>...</th>\n",
       "      <th>V21</th>\n",
       "      <th>V22</th>\n",
       "      <th>V23</th>\n",
       "      <th>V24</th>\n",
       "      <th>V25</th>\n",
       "      <th>V26</th>\n",
       "      <th>V27</th>\n",
       "      <th>V28</th>\n",
       "      <th>Amount</th>\n",
       "      <th>Class</th>\n",
       "    </tr>\n",
       "  </thead>\n",
       "  <tbody>\n",
       "    <tr>\n",
       "      <th>count</th>\n",
       "      <td>284807.000000</td>\n",
       "      <td>2.848070e+05</td>\n",
       "      <td>2.848070e+05</td>\n",
       "      <td>2.848070e+05</td>\n",
       "      <td>2.848070e+05</td>\n",
       "      <td>2.848070e+05</td>\n",
       "      <td>2.848070e+05</td>\n",
       "      <td>2.848070e+05</td>\n",
       "      <td>2.848070e+05</td>\n",
       "      <td>2.848070e+05</td>\n",
       "      <td>...</td>\n",
       "      <td>2.848070e+05</td>\n",
       "      <td>2.848070e+05</td>\n",
       "      <td>2.848070e+05</td>\n",
       "      <td>2.848070e+05</td>\n",
       "      <td>2.848070e+05</td>\n",
       "      <td>2.848070e+05</td>\n",
       "      <td>2.848070e+05</td>\n",
       "      <td>2.848070e+05</td>\n",
       "      <td>284807.000000</td>\n",
       "      <td>284807.000000</td>\n",
       "    </tr>\n",
       "    <tr>\n",
       "      <th>mean</th>\n",
       "      <td>94813.859575</td>\n",
       "      <td>3.918649e-15</td>\n",
       "      <td>5.682686e-16</td>\n",
       "      <td>-8.761736e-15</td>\n",
       "      <td>2.811118e-15</td>\n",
       "      <td>-1.552103e-15</td>\n",
       "      <td>2.040130e-15</td>\n",
       "      <td>-1.698953e-15</td>\n",
       "      <td>-1.893285e-16</td>\n",
       "      <td>-3.147640e-15</td>\n",
       "      <td>...</td>\n",
       "      <td>1.473120e-16</td>\n",
       "      <td>8.042109e-16</td>\n",
       "      <td>5.282512e-16</td>\n",
       "      <td>4.456271e-15</td>\n",
       "      <td>1.426896e-15</td>\n",
       "      <td>1.701640e-15</td>\n",
       "      <td>-3.662252e-16</td>\n",
       "      <td>-1.217809e-16</td>\n",
       "      <td>88.349619</td>\n",
       "      <td>0.001727</td>\n",
       "    </tr>\n",
       "    <tr>\n",
       "      <th>std</th>\n",
       "      <td>47488.145955</td>\n",
       "      <td>1.958696e+00</td>\n",
       "      <td>1.651309e+00</td>\n",
       "      <td>1.516255e+00</td>\n",
       "      <td>1.415869e+00</td>\n",
       "      <td>1.380247e+00</td>\n",
       "      <td>1.332271e+00</td>\n",
       "      <td>1.237094e+00</td>\n",
       "      <td>1.194353e+00</td>\n",
       "      <td>1.098632e+00</td>\n",
       "      <td>...</td>\n",
       "      <td>7.345240e-01</td>\n",
       "      <td>7.257016e-01</td>\n",
       "      <td>6.244603e-01</td>\n",
       "      <td>6.056471e-01</td>\n",
       "      <td>5.212781e-01</td>\n",
       "      <td>4.822270e-01</td>\n",
       "      <td>4.036325e-01</td>\n",
       "      <td>3.300833e-01</td>\n",
       "      <td>250.120109</td>\n",
       "      <td>0.041527</td>\n",
       "    </tr>\n",
       "    <tr>\n",
       "      <th>min</th>\n",
       "      <td>0.000000</td>\n",
       "      <td>-5.640751e+01</td>\n",
       "      <td>-7.271573e+01</td>\n",
       "      <td>-4.832559e+01</td>\n",
       "      <td>-5.683171e+00</td>\n",
       "      <td>-1.137433e+02</td>\n",
       "      <td>-2.616051e+01</td>\n",
       "      <td>-4.355724e+01</td>\n",
       "      <td>-7.321672e+01</td>\n",
       "      <td>-1.343407e+01</td>\n",
       "      <td>...</td>\n",
       "      <td>-3.483038e+01</td>\n",
       "      <td>-1.093314e+01</td>\n",
       "      <td>-4.480774e+01</td>\n",
       "      <td>-2.836627e+00</td>\n",
       "      <td>-1.029540e+01</td>\n",
       "      <td>-2.604551e+00</td>\n",
       "      <td>-2.256568e+01</td>\n",
       "      <td>-1.543008e+01</td>\n",
       "      <td>0.000000</td>\n",
       "      <td>0.000000</td>\n",
       "    </tr>\n",
       "    <tr>\n",
       "      <th>25%</th>\n",
       "      <td>54201.500000</td>\n",
       "      <td>-9.203734e-01</td>\n",
       "      <td>-5.985499e-01</td>\n",
       "      <td>-8.903648e-01</td>\n",
       "      <td>-8.486401e-01</td>\n",
       "      <td>-6.915971e-01</td>\n",
       "      <td>-7.682956e-01</td>\n",
       "      <td>-5.540759e-01</td>\n",
       "      <td>-2.086297e-01</td>\n",
       "      <td>-6.430976e-01</td>\n",
       "      <td>...</td>\n",
       "      <td>-2.283949e-01</td>\n",
       "      <td>-5.423504e-01</td>\n",
       "      <td>-1.618463e-01</td>\n",
       "      <td>-3.545861e-01</td>\n",
       "      <td>-3.171451e-01</td>\n",
       "      <td>-3.269839e-01</td>\n",
       "      <td>-7.083953e-02</td>\n",
       "      <td>-5.295979e-02</td>\n",
       "      <td>5.600000</td>\n",
       "      <td>0.000000</td>\n",
       "    </tr>\n",
       "    <tr>\n",
       "      <th>50%</th>\n",
       "      <td>84692.000000</td>\n",
       "      <td>1.810880e-02</td>\n",
       "      <td>6.548556e-02</td>\n",
       "      <td>1.798463e-01</td>\n",
       "      <td>-1.984653e-02</td>\n",
       "      <td>-5.433583e-02</td>\n",
       "      <td>-2.741871e-01</td>\n",
       "      <td>4.010308e-02</td>\n",
       "      <td>2.235804e-02</td>\n",
       "      <td>-5.142873e-02</td>\n",
       "      <td>...</td>\n",
       "      <td>-2.945017e-02</td>\n",
       "      <td>6.781943e-03</td>\n",
       "      <td>-1.119293e-02</td>\n",
       "      <td>4.097606e-02</td>\n",
       "      <td>1.659350e-02</td>\n",
       "      <td>-5.213911e-02</td>\n",
       "      <td>1.342146e-03</td>\n",
       "      <td>1.124383e-02</td>\n",
       "      <td>22.000000</td>\n",
       "      <td>0.000000</td>\n",
       "    </tr>\n",
       "    <tr>\n",
       "      <th>75%</th>\n",
       "      <td>139320.500000</td>\n",
       "      <td>1.315642e+00</td>\n",
       "      <td>8.037239e-01</td>\n",
       "      <td>1.027196e+00</td>\n",
       "      <td>7.433413e-01</td>\n",
       "      <td>6.119264e-01</td>\n",
       "      <td>3.985649e-01</td>\n",
       "      <td>5.704361e-01</td>\n",
       "      <td>3.273459e-01</td>\n",
       "      <td>5.971390e-01</td>\n",
       "      <td>...</td>\n",
       "      <td>1.863772e-01</td>\n",
       "      <td>5.285536e-01</td>\n",
       "      <td>1.476421e-01</td>\n",
       "      <td>4.395266e-01</td>\n",
       "      <td>3.507156e-01</td>\n",
       "      <td>2.409522e-01</td>\n",
       "      <td>9.104512e-02</td>\n",
       "      <td>7.827995e-02</td>\n",
       "      <td>77.165000</td>\n",
       "      <td>0.000000</td>\n",
       "    </tr>\n",
       "    <tr>\n",
       "      <th>max</th>\n",
       "      <td>172792.000000</td>\n",
       "      <td>2.454930e+00</td>\n",
       "      <td>2.205773e+01</td>\n",
       "      <td>9.382558e+00</td>\n",
       "      <td>1.687534e+01</td>\n",
       "      <td>3.480167e+01</td>\n",
       "      <td>7.330163e+01</td>\n",
       "      <td>1.205895e+02</td>\n",
       "      <td>2.000721e+01</td>\n",
       "      <td>1.559499e+01</td>\n",
       "      <td>...</td>\n",
       "      <td>2.720284e+01</td>\n",
       "      <td>1.050309e+01</td>\n",
       "      <td>2.252841e+01</td>\n",
       "      <td>4.584549e+00</td>\n",
       "      <td>7.519589e+00</td>\n",
       "      <td>3.517346e+00</td>\n",
       "      <td>3.161220e+01</td>\n",
       "      <td>3.384781e+01</td>\n",
       "      <td>25691.160000</td>\n",
       "      <td>1.000000</td>\n",
       "    </tr>\n",
       "  </tbody>\n",
       "</table>\n",
       "<p>8 rows × 31 columns</p>\n",
       "</div>"
      ],
      "text/plain": [
       "                Time            V1            V2            V3            V4  \\\n",
       "count  284807.000000  2.848070e+05  2.848070e+05  2.848070e+05  2.848070e+05   \n",
       "mean    94813.859575  3.918649e-15  5.682686e-16 -8.761736e-15  2.811118e-15   \n",
       "std     47488.145955  1.958696e+00  1.651309e+00  1.516255e+00  1.415869e+00   \n",
       "min         0.000000 -5.640751e+01 -7.271573e+01 -4.832559e+01 -5.683171e+00   \n",
       "25%     54201.500000 -9.203734e-01 -5.985499e-01 -8.903648e-01 -8.486401e-01   \n",
       "50%     84692.000000  1.810880e-02  6.548556e-02  1.798463e-01 -1.984653e-02   \n",
       "75%    139320.500000  1.315642e+00  8.037239e-01  1.027196e+00  7.433413e-01   \n",
       "max    172792.000000  2.454930e+00  2.205773e+01  9.382558e+00  1.687534e+01   \n",
       "\n",
       "                 V5            V6            V7            V8            V9  \\\n",
       "count  2.848070e+05  2.848070e+05  2.848070e+05  2.848070e+05  2.848070e+05   \n",
       "mean  -1.552103e-15  2.040130e-15 -1.698953e-15 -1.893285e-16 -3.147640e-15   \n",
       "std    1.380247e+00  1.332271e+00  1.237094e+00  1.194353e+00  1.098632e+00   \n",
       "min   -1.137433e+02 -2.616051e+01 -4.355724e+01 -7.321672e+01 -1.343407e+01   \n",
       "25%   -6.915971e-01 -7.682956e-01 -5.540759e-01 -2.086297e-01 -6.430976e-01   \n",
       "50%   -5.433583e-02 -2.741871e-01  4.010308e-02  2.235804e-02 -5.142873e-02   \n",
       "75%    6.119264e-01  3.985649e-01  5.704361e-01  3.273459e-01  5.971390e-01   \n",
       "max    3.480167e+01  7.330163e+01  1.205895e+02  2.000721e+01  1.559499e+01   \n",
       "\n",
       "       ...           V21           V22           V23           V24  \\\n",
       "count  ...  2.848070e+05  2.848070e+05  2.848070e+05  2.848070e+05   \n",
       "mean   ...  1.473120e-16  8.042109e-16  5.282512e-16  4.456271e-15   \n",
       "std    ...  7.345240e-01  7.257016e-01  6.244603e-01  6.056471e-01   \n",
       "min    ... -3.483038e+01 -1.093314e+01 -4.480774e+01 -2.836627e+00   \n",
       "25%    ... -2.283949e-01 -5.423504e-01 -1.618463e-01 -3.545861e-01   \n",
       "50%    ... -2.945017e-02  6.781943e-03 -1.119293e-02  4.097606e-02   \n",
       "75%    ...  1.863772e-01  5.285536e-01  1.476421e-01  4.395266e-01   \n",
       "max    ...  2.720284e+01  1.050309e+01  2.252841e+01  4.584549e+00   \n",
       "\n",
       "                V25           V26           V27           V28         Amount  \\\n",
       "count  2.848070e+05  2.848070e+05  2.848070e+05  2.848070e+05  284807.000000   \n",
       "mean   1.426896e-15  1.701640e-15 -3.662252e-16 -1.217809e-16      88.349619   \n",
       "std    5.212781e-01  4.822270e-01  4.036325e-01  3.300833e-01     250.120109   \n",
       "min   -1.029540e+01 -2.604551e+00 -2.256568e+01 -1.543008e+01       0.000000   \n",
       "25%   -3.171451e-01 -3.269839e-01 -7.083953e-02 -5.295979e-02       5.600000   \n",
       "50%    1.659350e-02 -5.213911e-02  1.342146e-03  1.124383e-02      22.000000   \n",
       "75%    3.507156e-01  2.409522e-01  9.104512e-02  7.827995e-02      77.165000   \n",
       "max    7.519589e+00  3.517346e+00  3.161220e+01  3.384781e+01   25691.160000   \n",
       "\n",
       "               Class  \n",
       "count  284807.000000  \n",
       "mean        0.001727  \n",
       "std         0.041527  \n",
       "min         0.000000  \n",
       "25%         0.000000  \n",
       "50%         0.000000  \n",
       "75%         0.000000  \n",
       "max         1.000000  \n",
       "\n",
       "[8 rows x 31 columns]"
      ]
     },
     "execution_count": 7,
     "metadata": {},
     "output_type": "execute_result"
    }
   ],
   "source": [
    "credit.describe()\n",
    "#Os dados não estão normalizados  "
   ]
  },
  {
   "cell_type": "code",
   "execution_count": 8,
   "id": "b841fbd2",
   "metadata": {
    "id": "b841fbd2"
   },
   "outputs": [],
   "source": [
    "#Mudando a variável amount por uma discreta\n",
    "disc = np.linspace(credit['Amount'].min(),credit['Amount'].max(),10)\n",
    "disc[-1] = np.inf\n",
    "disc[0] = -np.inf\n",
    "credit['Amount_disc'] = pd.cut(credit['Amount'],bins= disc,labels=list(range(1,len(disc))))"
   ]
  },
  {
   "cell_type": "code",
   "execution_count": 9,
   "id": "d2526b36",
   "metadata": {
    "colab": {
     "base_uri": "https://localhost:8080/"
    },
    "id": "d2526b36",
    "outputId": "fcdb651a-46b5-4783-93b6-6015597d810d",
    "scrolled": true
   },
   "outputs": [
    {
     "data": {
      "text/plain": [
       "1    284484\n",
       "2       285\n",
       "3        28\n",
       "4         4\n",
       "5         3\n",
       "7         2\n",
       "9         1\n",
       "6         0\n",
       "8         0\n",
       "Name: Amount_disc, dtype: int64"
      ]
     },
     "execution_count": 9,
     "metadata": {},
     "output_type": "execute_result"
    }
   ],
   "source": [
    "credit.Amount_disc.value_counts()"
   ]
  },
  {
   "cell_type": "code",
   "execution_count": 10,
   "id": "a4463334",
   "metadata": {
    "colab": {
     "base_uri": "https://localhost:8080/",
     "height": 386
    },
    "id": "a4463334",
    "outputId": "09c898e4-6e61-47c7-91d1-f9de3d5514c5"
   },
   "outputs": [
    {
     "data": {
      "text/plain": [
       "<seaborn.axisgrid.FacetGrid at 0x230bbb303d0>"
      ]
     },
     "execution_count": 10,
     "metadata": {},
     "output_type": "execute_result"
    },
    {
     "data": {
      "image/png": "[encoded data removed]",
      "text/plain": [
       "<Figure size 360x360 with 1 Axes>"
      ]
     },
     "metadata": {
      "needs_background": "light"
     },
     "output_type": "display_data"
    }
   ],
   "source": [
    "# Gráfico de dispersão da quantidade de dinheiro gasto discretizado e o tempo quando ocorreu fraude\n",
    "credit_mod = credit[credit['Class']==1]\n",
    "sns.catplot(data=credit_mod,x='Amount_disc',y='Time')\n",
    "# não parece haver padrão no tempo para ocorrência de fraude"
   ]
  },
  {
   "cell_type": "code",
   "execution_count": 11,
   "id": "1a15961a",
   "metadata": {
    "colab": {
     "base_uri": "https://localhost:8080/"
    },
    "id": "1a15961a",
    "outputId": "05be4be1-eb93-42d0-e35c-9b6d5976e1ab"
   },
   "outputs": [
    {
     "data": {
      "text/plain": [
       "1    492\n",
       "2      0\n",
       "3      0\n",
       "4      0\n",
       "5      0\n",
       "6      0\n",
       "7      0\n",
       "8      0\n",
       "9      0\n",
       "Name: Amount_disc, dtype: int64"
      ]
     },
     "execution_count": 11,
     "metadata": {},
     "output_type": "execute_result"
    }
   ],
   "source": [
    "credit_mod.Amount_disc.value_counts()\n",
    "# Todos os golpes ocorrem para pequenos valores, entre 0 e 2854"
   ]
  },
  {
   "cell_type": "code",
   "execution_count": 12,
   "id": "421622da",
   "metadata": {
    "id": "421622da"
   },
   "outputs": [],
   "source": [
    "#Separando em conjunto de treino e teste mantendo a proporção entre fraudes e não fraudes\n",
    "\n",
    "from sklearn.model_selection import StratifiedShuffleSplit\n",
    "\n",
    "split = StratifiedShuffleSplit(n_splits=1, test_size=0.2)\n",
    "for train_index, test_index in split.split(credit,credit.Class):\n",
    "    credit_train = credit.loc[train_index]\n",
    "    credit_test = credit.loc[test_index]\n",
    "    \n",
    "Y_train = np.array(credit_train.Class)\n",
    "X_train = credit_train.drop(columns=['Class','Time','Amount'])\n",
    "\n",
    "Y_test = np.array(credit_test.Class)\n",
    "X_test = credit_test.drop(columns=['Class','Time','Amount'])"
   ]
  },
  {
   "cell_type": "code",
   "execution_count": 13,
   "id": "908f5b8b",
   "metadata": {
    "id": "908f5b8b"
   },
   "outputs": [],
   "source": [
    "#Normalizando os dados\n",
    "from sklearn.preprocessing import StandardScaler\n",
    "normal = StandardScaler()\n",
    "X_train_trans = normal.fit_transform(X_train)\n",
    "X_test_trans = normal.transform(X_test)"
   ]
  },
  {
   "cell_type": "code",
   "execution_count": 14,
   "id": "686f3eae",
   "metadata": {
    "id": "686f3eae"
   },
   "outputs": [],
   "source": [
    "#Criando função para plotar matriz de confusão\n",
    "def plot_matriz_conf(y, y_hat):\n",
    "    from sklearn.metrics import confusion_matrix\n",
    "    cm = confusion_matrix(y, y_hat)\n",
    "    sns.heatmap(cm, annot=True)\n",
    "    plt.ylabel('Rótulos verdadeiros')\n",
    "    plt.xlabel('Rótulos previstos')\n",
    "    plt.xticks([.5,1.5],['Não Houve fraude','houve fraude'], rotation=0)\n",
    "    plt.yticks([0.5,1.5],['Não Houve fraude','houve fraude'],rotation=0)\n",
    "    plt.title('Matriz de Confusão')"
   ]
  },
  {
   "cell_type": "code",
   "execution_count": 15,
   "id": "722adec4",
   "metadata": {
    "id": "722adec4"
   },
   "outputs": [],
   "source": [
    "# Agora podemos treinar os modelos."
   ]
  },
  {
   "cell_type": "code",
   "execution_count": 16,
   "id": "933e9744",
   "metadata": {
    "id": "933e9744"
   },
   "outputs": [],
   "source": [
    "from sklearn.model_selection import GridSearchCV #para procurar os melhores hiperparâmetros"
   ]
  },
  {
   "cell_type": "markdown",
   "id": "8a763aa7",
   "metadata": {
    "id": "8a763aa7"
   },
   "source": [
    "# Tree "
   ]
  },
  {
   "cell_type": "code",
   "execution_count": 17,
   "id": "33317a3d",
   "metadata": {
    "id": "33317a3d"
   },
   "outputs": [],
   "source": [
    "from sklearn.tree import DecisionTreeClassifier\n",
    "tree_clf = DecisionTreeClassifier()"
   ]
  },
  {
   "cell_type": "code",
   "execution_count": 18,
   "id": "2746d86a",
   "metadata": {
    "colab": {
     "base_uri": "https://localhost:8080/"
    },
    "id": "2746d86a",
    "outputId": "bdd6b63b-ce47-44a7-e630-1418d4ff94a3",
    "scrolled": true
   },
   "outputs": [
    {
     "name": "stdout",
     "output_type": "stream",
     "text": [
      "Fitting 5 folds for each of 20 candidates, totalling 100 fits\n"
     ]
    },
    {
     "data": {
      "text/plain": [
       "GridSearchCV(cv=5, estimator=DecisionTreeClassifier(),\n",
       "             param_grid={'criterion': ['gini', 'entropy'],\n",
       "                         'max_depth': [2, 4, 6, 8, 10],\n",
       "                         'splitter': ['best', 'random']},\n",
       "             verbose=1)"
      ]
     },
     "execution_count": 18,
     "metadata": {},
     "output_type": "execute_result"
    }
   ],
   "source": [
    "params = {'max_depth':[2,4,6,8,10], 'criterion':['gini','entropy'],'splitter':['best','random']}\n",
    "tree_grid = GridSearchCV(tree_clf,params,verbose=1,cv=5)\n",
    "tree_grid.fit(X_train_trans, Y_train)"
   ]
  },
  {
   "cell_type": "code",
   "execution_count": 19,
   "id": "045006ca",
   "metadata": {
    "colab": {
     "base_uri": "https://localhost:8080/"
    },
    "id": "045006ca",
    "outputId": "258aa767-a8dc-49d8-c84e-9bdc0c5916a1"
   },
   "outputs": [
    {
     "name": "stdout",
     "output_type": "stream",
     "text": [
      "Os melhores parâmetros foram {'criterion': 'gini', 'max_depth': 6, 'splitter': 'best'}\n",
      "accuracy: 99.95%\n"
     ]
    }
   ],
   "source": [
    "print(f'Os melhores parâmetros foram {tree_grid.best_params_}')\n",
    "print(f'accuracy: {tree_grid.best_score_*100:.2f}%')"
   ]
  },
  {
   "cell_type": "code",
   "execution_count": 20,
   "id": "a2ce75c5",
   "metadata": {
    "id": "a2ce75c5"
   },
   "outputs": [],
   "source": [
    "from sklearn.metrics import accuracy_score"
   ]
  },
  {
   "cell_type": "code",
   "execution_count": 21,
   "id": "afa821d0",
   "metadata": {
    "colab": {
     "base_uri": "https://localhost:8080/"
    },
    "id": "afa821d0",
    "outputId": "5b6c927d-a528-4ab6-da32-433ee9ad000f"
   },
   "outputs": [
    {
     "name": "stdout",
     "output_type": "stream",
     "text": [
      "A accuracy no conjunto de teste é de 99.94%\n"
     ]
    }
   ],
   "source": [
    "y_hat = tree_grid.predict(X_test_trans)\n",
    "print(f'A accuracy no conjunto de teste é de {accuracy_score(Y_test, y_hat)*100:.2f}%')"
   ]
  },
  {
   "cell_type": "code",
   "execution_count": 22,
   "id": "1cef0a85",
   "metadata": {
    "colab": {
     "base_uri": "https://localhost:8080/",
     "height": 296
    },
    "id": "1cef0a85",
    "outputId": "a780cb3a-8989-4437-cfeb-6b4de6d69680"
   },
   "outputs": [
    {
     "data": {
      "image/png": "[encoded data removed]",
      "text/plain": [
       "<Figure size 432x288 with 2 Axes>"
      ]
     },
     "metadata": {
      "needs_background": "light"
     },
     "output_type": "display_data"
    }
   ],
   "source": [
    "# A matriz de confusão é \n",
    "plot_matriz_conf(Y_test, y_hat)"
   ]
  },
  {
   "cell_type": "markdown",
   "id": "13cf9596",
   "metadata": {
    "id": "13cf9596"
   },
   "source": [
    "# Logistic Regression"
   ]
  },
  {
   "cell_type": "code",
   "execution_count": 23,
   "id": "c26b4735",
   "metadata": {
    "id": "c26b4735"
   },
   "outputs": [],
   "source": [
    "from sklearn.linear_model import LogisticRegression\n",
    "log_clf = LogisticRegression()"
   ]
  },
  {
   "cell_type": "code",
   "execution_count": 24,
   "id": "653e1754",
   "metadata": {
    "colab": {
     "base_uri": "https://localhost:8080/"
    },
    "id": "653e1754",
    "outputId": "1bf22088-2e6d-4371-ecfa-b46a0072c859"
   },
   "outputs": [
    {
     "data": {
      "text/plain": [
       "LogisticRegression()"
      ]
     },
     "execution_count": 24,
     "metadata": {},
     "output_type": "execute_result"
    }
   ],
   "source": [
    "log_clf.fit(X_train_trans,Y_train)"
   ]
  },
  {
   "cell_type": "code",
   "execution_count": 25,
   "id": "c2f01772",
   "metadata": {
    "colab": {
     "base_uri": "https://localhost:8080/"
    },
    "id": "c2f01772",
    "outputId": "4e94371f-2cb1-40a3-ebab-bb74b5ddd92f"
   },
   "outputs": [
    {
     "name": "stdout",
     "output_type": "stream",
     "text": [
      "A accuracy no conjunto de teste é de 99.92%\n"
     ]
    }
   ],
   "source": [
    "y_hat = log_clf.predict(X_test_trans)\n",
    "print(f'A accuracy no conjunto de teste é de {accuracy_score(Y_test, y_hat)*100:.2f}%')"
   ]
  },
  {
   "cell_type": "code",
   "execution_count": 26,
   "id": "ba7d7ca0",
   "metadata": {
    "colab": {
     "base_uri": "https://localhost:8080/",
     "height": 296
    },
    "id": "ba7d7ca0",
    "outputId": "34462717-e945-4503-9305-2704b27befd3"
   },
   "outputs": [
    {
     "data": {
      "image/png": "[encoded data removed]",
      "text/plain": [
       "<Figure size 432x288 with 2 Axes>"
      ]
     },
     "metadata": {
      "needs_background": "light"
     },
     "output_type": "display_data"
    }
   ],
   "source": [
    "plot_matriz_conf(Y_test, y_hat)"
   ]
  },
  {
   "cell_type": "markdown",
   "id": "853337a5",
   "metadata": {
    "id": "853337a5"
   },
   "source": [
    "# KNN"
   ]
  },
  {
   "cell_type": "code",
   "execution_count": 27,
   "id": "1b5ecc2d",
   "metadata": {
    "id": "1b5ecc2d"
   },
   "outputs": [],
   "source": [
    "from sklearn.neighbors import KNeighborsClassifier"
   ]
  },
  {
   "cell_type": "code",
   "execution_count": 28,
   "id": "729b2bd4",
   "metadata": {
    "id": "729b2bd4"
   },
   "outputs": [],
   "source": [
    "knn_clf = KNeighborsClassifier()\n",
    "params = {'n_neighbors': [ 4, 5, 6, 7, 8]}"
   ]
  },
  {
   "cell_type": "code",
   "execution_count": 29,
   "id": "aac4a494",
   "metadata": {
    "colab": {
     "background_save": true,
     "base_uri": "https://localhost:8080/"
    },
    "id": "aac4a494",
    "outputId": "de5bdf1a-ba2f-46d9-9269-0e70f90be5db"
   },
   "outputs": [
    {
     "name": "stdout",
     "output_type": "stream",
     "text": [
      "Fitting 3 folds for each of 5 candidates, totalling 15 fits\n"
     ]
    },
    {
     "data": {
      "text/plain": [
       "GridSearchCV(cv=3, estimator=KNeighborsClassifier(),\n",
       "             param_grid={'n_neighbors': [4, 5, 6, 7, 8]}, verbose=1)"
      ]
     },
     "execution_count": 29,
     "metadata": {},
     "output_type": "execute_result"
    }
   ],
   "source": [
    "knn_grid = GridSearchCV(knn_clf, params, verbose=1, cv=3)\n",
    "knn_grid.fit(X_train_trans, Y_train)"
   ]
  },
  {
   "cell_type": "code",
   "execution_count": 30,
   "id": "059dc323",
   "metadata": {
    "id": "059dc323"
   },
   "outputs": [
    {
     "name": "stdout",
     "output_type": "stream",
     "text": [
      "Os melhores parâmetros foram {'n_neighbors': 4}\n",
      "accuracy: 99.95%\n"
     ]
    }
   ],
   "source": [
    "print(f'Os melhores parâmetros foram {knn_grid.best_params_}')\n",
    "print(f'accuracy: {knn_grid.best_score_*100:.2f}%')"
   ]
  },
  {
   "cell_type": "code",
   "execution_count": 31,
   "id": "1d6d132a",
   "metadata": {
    "id": "1d6d132a"
   },
   "outputs": [
    {
     "name": "stdout",
     "output_type": "stream",
     "text": [
      "A accuracy no conjunto de teste é de 99.96%\n"
     ]
    }
   ],
   "source": [
    "y_hat = knn_grid.predict(X_test_trans)\n",
    "print(f'A accuracy no conjunto de teste é de {accuracy_score(Y_test, y_hat)*100:.2f}%')"
   ]
  },
  {
   "cell_type": "code",
   "execution_count": 32,
   "id": "b31258ad",
   "metadata": {
    "id": "b31258ad"
   },
   "outputs": [
    {
     "data": {
      "image/png": "[encoded data removed]",
      "text/plain": [
       "<Figure size 432x288 with 2 Axes>"
      ]
     },
     "metadata": {
      "needs_background": "light"
     },
     "output_type": "display_data"
    }
   ],
   "source": [
    "plot_matriz_conf(Y_test, y_hat)"
   ]
  },
  {
   "cell_type": "markdown",
   "id": "d1eaaa1b",
   "metadata": {
    "id": "d1eaaa1b"
   },
   "source": [
    "# ANN"
   ]
  },
  {
   "cell_type": "code",
   "execution_count": 33,
   "id": "b2ba568f",
   "metadata": {
    "id": "b2ba568f"
   },
   "outputs": [],
   "source": [
    "import tensorflow as tf\n",
    "from tensorflow import keras"
   ]
  },
  {
   "cell_type": "code",
   "execution_count": 34,
   "id": "ff1ce5d8",
   "metadata": {
    "id": "ff1ce5d8"
   },
   "outputs": [
    {
     "data": {
      "text/plain": [
       "(227845, 29)"
      ]
     },
     "execution_count": 34,
     "metadata": {},
     "output_type": "execute_result"
    }
   ],
   "source": [
    "X_train_trans.shape"
   ]
  },
  {
   "cell_type": "code",
   "execution_count": 59,
   "id": "f5fa6150",
   "metadata": {
    "id": "f5fa6150"
   },
   "outputs": [],
   "source": [
    "model = keras.models.Sequential()\n",
    "model.add(keras.layers.Flatten()) # modifica o array para 1D\n",
    "model.add(keras.layers.Dense(300, activation=\"relu\")) # 300 neurônios\n",
    "model.add(keras.layers.Dense(100, activation='relu')) # 100 neurônios\n",
    "model.add(keras.layers.Dense(2,activation='softmax')) #10 outputs possíveis, softmax para a soma das probabilidades ser 1."
   ]
  },
  {
   "cell_type": "code",
   "execution_count": 62,
   "id": "17ec0787",
   "metadata": {
    "id": "17ec0787"
   },
   "outputs": [],
   "source": [
    "model.compile(loss='sparse_categorical_crossentropy',\n",
    "             optimizer='sgd',\n",
    "             metrics=['accuracy'])"
   ]
  },
  {
   "cell_type": "code",
   "execution_count": 63,
   "id": "d1302555",
   "metadata": {
    "id": "d1302555"
   },
   "outputs": [
    {
     "name": "stdout",
     "output_type": "stream",
     "text": [
      "Epoch 1/100\n",
      "7121/7121 [==============================] - 32s 4ms/step - loss: 0.0125 - accuracy: 0.9984 - val_loss: 0.0040 - val_accuracy: 0.9992\n",
      "Epoch 2/100\n",
      "7121/7121 [==============================] - 26s 4ms/step - loss: 0.0041 - accuracy: 0.9993 - val_loss: 0.0031 - val_accuracy: 0.9995\n",
      "Epoch 3/100\n",
      "7121/7121 [==============================] - 26s 4ms/step - loss: 0.0034 - accuracy: 0.9993 - val_loss: 0.0029 - val_accuracy: 0.9995\n",
      "Epoch 4/100\n",
      "7121/7121 [==============================] - 26s 4ms/step - loss: 0.0032 - accuracy: 0.9993 - val_loss: 0.0034 - val_accuracy: 0.9994\n",
      "Epoch 5/100\n",
      "7121/7121 [==============================] - 26s 4ms/step - loss: 0.0030 - accuracy: 0.9993 - val_loss: 0.0028 - val_accuracy: 0.9995\n",
      "Epoch 6/100\n",
      "7121/7121 [==============================] - 26s 4ms/step - loss: 0.0029 - accuracy: 0.9994 - val_loss: 0.0026 - val_accuracy: 0.9996\n",
      "Epoch 7/100\n",
      "7121/7121 [==============================] - 27s 4ms/step - loss: 0.0028 - accuracy: 0.9994 - val_loss: 0.0026 - val_accuracy: 0.9996\n",
      "Epoch 8/100\n",
      "7121/7121 [==============================] - 27s 4ms/step - loss: 0.0027 - accuracy: 0.9994 - val_loss: 0.0025 - val_accuracy: 0.9996\n",
      "Epoch 9/100\n",
      "7121/7121 [==============================] - 26s 4ms/step - loss: 0.0026 - accuracy: 0.9994 - val_loss: 0.0034 - val_accuracy: 0.9992\n",
      "Epoch 10/100\n",
      "7121/7121 [==============================] - 27s 4ms/step - loss: 0.0026 - accuracy: 0.9994 - val_loss: 0.0025 - val_accuracy: 0.9996\n",
      "Epoch 11/100\n",
      "7121/7121 [==============================] - 27s 4ms/step - loss: 0.0025 - accuracy: 0.9994 - val_loss: 0.0025 - val_accuracy: 0.9996\n",
      "Epoch 12/100\n",
      "7121/7121 [==============================] - 28s 4ms/step - loss: 0.0024 - accuracy: 0.9994 - val_loss: 0.0029 - val_accuracy: 0.9993\n",
      "Epoch 13/100\n",
      "7121/7121 [==============================] - 26s 4ms/step - loss: 0.0024 - accuracy: 0.9994 - val_loss: 0.0025 - val_accuracy: 0.9996\n",
      "Epoch 14/100\n",
      "7121/7121 [==============================] - 26s 4ms/step - loss: 0.0023 - accuracy: 0.9995 - val_loss: 0.0027 - val_accuracy: 0.9994\n",
      "Epoch 15/100\n",
      "7121/7121 [==============================] - 27s 4ms/step - loss: 0.0023 - accuracy: 0.9995 - val_loss: 0.0027 - val_accuracy: 0.9994\n",
      "Epoch 16/100\n",
      "7121/7121 [==============================] - 27s 4ms/step - loss: 0.0023 - accuracy: 0.9995 - val_loss: 0.0027 - val_accuracy: 0.9995\n",
      "Epoch 17/100\n",
      "7121/7121 [==============================] - 26s 4ms/step - loss: 0.0022 - accuracy: 0.9995 - val_loss: 0.0025 - val_accuracy: 0.9996\n",
      "Epoch 18/100\n",
      "7121/7121 [==============================] - 27s 4ms/step - loss: 0.0022 - accuracy: 0.9995 - val_loss: 0.0025 - val_accuracy: 0.9995\n",
      "Epoch 19/100\n",
      "7121/7121 [==============================] - 27s 4ms/step - loss: 0.0022 - accuracy: 0.9995 - val_loss: 0.0025 - val_accuracy: 0.9995\n",
      "Epoch 20/100\n",
      "7121/7121 [==============================] - 27s 4ms/step - loss: 0.0021 - accuracy: 0.9995 - val_loss: 0.0025 - val_accuracy: 0.9995\n",
      "Epoch 21/100\n",
      "7121/7121 [==============================] - 27s 4ms/step - loss: 0.0021 - accuracy: 0.9995 - val_loss: 0.0027 - val_accuracy: 0.9995\n",
      "Epoch 22/100\n",
      "7121/7121 [==============================] - 27s 4ms/step - loss: 0.0021 - accuracy: 0.9995 - val_loss: 0.0024 - val_accuracy: 0.9996\n",
      "Epoch 23/100\n",
      "7121/7121 [==============================] - 27s 4ms/step - loss: 0.0021 - accuracy: 0.9995 - val_loss: 0.0025 - val_accuracy: 0.9996\n",
      "Epoch 24/100\n",
      "7121/7121 [==============================] - 27s 4ms/step - loss: 0.0020 - accuracy: 0.9995 - val_loss: 0.0024 - val_accuracy: 0.9996\n",
      "Epoch 25/100\n",
      "7121/7121 [==============================] - 27s 4ms/step - loss: 0.0020 - accuracy: 0.9996 - val_loss: 0.0024 - val_accuracy: 0.9996\n",
      "Epoch 26/100\n",
      "7121/7121 [==============================] - 27s 4ms/step - loss: 0.0020 - accuracy: 0.9996 - val_loss: 0.0026 - val_accuracy: 0.9994\n",
      "Epoch 27/100\n",
      "7121/7121 [==============================] - 27s 4ms/step - loss: 0.0020 - accuracy: 0.9995 - val_loss: 0.0024 - val_accuracy: 0.9996\n",
      "Epoch 28/100\n",
      "7121/7121 [==============================] - 27s 4ms/step - loss: 0.0019 - accuracy: 0.9996 - val_loss: 0.0024 - val_accuracy: 0.9996\n",
      "Epoch 29/100\n",
      "7121/7121 [==============================] - 27s 4ms/step - loss: 0.0019 - accuracy: 0.9995 - val_loss: 0.0024 - val_accuracy: 0.9996\n",
      "Epoch 30/100\n",
      "7121/7121 [==============================] - 27s 4ms/step - loss: 0.0019 - accuracy: 0.9996 - val_loss: 0.0024 - val_accuracy: 0.9996\n",
      "Epoch 31/100\n",
      "7121/7121 [==============================] - 27s 4ms/step - loss: 0.0019 - accuracy: 0.9996 - val_loss: 0.0024 - val_accuracy: 0.9996\n",
      "Epoch 32/100\n",
      "7121/7121 [==============================] - 27s 4ms/step - loss: 0.0019 - accuracy: 0.9995 - val_loss: 0.0024 - val_accuracy: 0.9995\n",
      "Epoch 33/100\n",
      "7121/7121 [==============================] - 27s 4ms/step - loss: 0.0019 - accuracy: 0.9996 - val_loss: 0.0024 - val_accuracy: 0.9996\n",
      "Epoch 34/100\n",
      "7121/7121 [==============================] - 28s 4ms/step - loss: 0.0018 - accuracy: 0.9996 - val_loss: 0.0027 - val_accuracy: 0.9995\n",
      "Epoch 35/100\n",
      "7121/7121 [==============================] - 27s 4ms/step - loss: 0.0018 - accuracy: 0.9996 - val_loss: 0.0024 - val_accuracy: 0.9996\n",
      "Epoch 36/100\n",
      "7121/7121 [==============================] - 27s 4ms/step - loss: 0.0018 - accuracy: 0.9996 - val_loss: 0.0030 - val_accuracy: 0.9993\n",
      "Epoch 37/100\n",
      "7121/7121 [==============================] - 29s 4ms/step - loss: 0.0018 - accuracy: 0.9996 - val_loss: 0.0024 - val_accuracy: 0.9996\n",
      "Epoch 38/100\n",
      "7121/7121 [==============================] - 29s 4ms/step - loss: 0.0018 - accuracy: 0.9996 - val_loss: 0.0024 - val_accuracy: 0.9996\n",
      "Epoch 39/100\n",
      "7121/7121 [==============================] - 29s 4ms/step - loss: 0.0017 - accuracy: 0.9996 - val_loss: 0.0023 - val_accuracy: 0.9996\n",
      "Epoch 40/100\n",
      "7121/7121 [==============================] - 27s 4ms/step - loss: 0.0017 - accuracy: 0.9996 - val_loss: 0.0023 - val_accuracy: 0.9996\n",
      "Epoch 45/100\n",
      "7121/7121 [==============================] - 27s 4ms/step - loss: 0.0016 - accuracy: 0.9997 - val_loss: 0.0023 - val_accuracy: 0.9996\n",
      "Epoch 46/100\n",
      "7121/7121 [==============================] - 28s 4ms/step - loss: 0.0016 - accuracy: 0.9996 - val_loss: 0.0023 - val_accuracy: 0.9996\n",
      "Epoch 47/100\n",
      "7121/7121 [==============================] - 28s 4ms/step - loss: 0.0016 - accuracy: 0.9996 - val_loss: 0.0024 - val_accuracy: 0.9996\n",
      "Epoch 48/100\n",
      "7121/7121 [==============================] - 27s 4ms/step - loss: 0.0016 - accuracy: 0.9996 - val_loss: 0.0025 - val_accuracy: 0.9995\n",
      "Epoch 49/100\n",
      "7121/7121 [==============================] - 27s 4ms/step - loss: 0.0016 - accuracy: 0.9996 - val_loss: 0.0024 - val_accuracy: 0.9996\n",
      "Epoch 50/100\n",
      "7121/7121 [==============================] - 28s 4ms/step - loss: 0.0016 - accuracy: 0.9997 - val_loss: 0.0024 - val_accuracy: 0.9995\n",
      "Epoch 51/100\n",
      "7121/7121 [==============================] - 29s 4ms/step - loss: 0.0015 - accuracy: 0.9996 - val_loss: 0.0024 - val_accuracy: 0.9996\n",
      "Epoch 52/100\n",
      "7121/7121 [==============================] - 28s 4ms/step - loss: 0.0015 - accuracy: 0.9997 - val_loss: 0.0023 - val_accuracy: 0.9996\n",
      "Epoch 55/100\n",
      "7121/7121 [==============================] - 28s 4ms/step - loss: 0.0015 - accuracy: 0.9996 - val_loss: 0.0024 - val_accuracy: 0.9996\n",
      "Epoch 56/100\n",
      "7121/7121 [==============================] - 28s 4ms/step - loss: 0.0015 - accuracy: 0.9996 - val_loss: 0.0023 - val_accuracy: 0.9996\n",
      "Epoch 57/100\n",
      "7121/7121 [==============================] - 28s 4ms/step - loss: 0.0015 - accuracy: 0.9997 - val_loss: 0.0023 - val_accuracy: 0.9996\n",
      "Epoch 58/100\n",
      "7121/7121 [==============================] - 28s 4ms/step - loss: 0.0014 - accuracy: 0.9997 - val_loss: 0.0024 - val_accuracy: 0.9996\n",
      "Epoch 59/100\n",
      "7121/7121 [==============================] - 28s 4ms/step - loss: 0.0014 - accuracy: 0.9996 - val_loss: 0.0023 - val_accuracy: 0.9996\n",
      "Epoch 60/100\n",
      "7121/7121 [==============================] - 27s 4ms/step - loss: 0.0014 - accuracy: 0.9997 - val_loss: 0.0025 - val_accuracy: 0.9995\n",
      "Epoch 61/100\n",
      "7121/7121 [==============================] - 27s 4ms/step - loss: 0.0014 - accuracy: 0.9997 - val_loss: 0.0025 - val_accuracy: 0.9995\n",
      "Epoch 62/100\n",
      "7121/7121 [==============================] - 28s 4ms/step - loss: 0.0014 - accuracy: 0.9997 - val_loss: 0.0028 - val_accuracy: 0.9993\n",
      "Epoch 63/100\n",
      "7121/7121 [==============================] - 28s 4ms/step - loss: 0.0014 - accuracy: 0.9997 - val_loss: 0.0025 - val_accuracy: 0.9995\n",
      "Epoch 64/100\n",
      "7121/7121 [==============================] - 30s 4ms/step - loss: 0.0014 - accuracy: 0.9997 - val_loss: 0.0023 - val_accuracy: 0.9996\n",
      "Epoch 65/100\n",
      "7121/7121 [==============================] - 28s 4ms/step - loss: 0.0013 - accuracy: 0.9997 - val_loss: 0.0024 - val_accuracy: 0.9996\n",
      "Epoch 66/100\n",
      "7121/7121 [==============================] - 27s 4ms/step - loss: 0.0014 - accuracy: 0.9997 - val_loss: 0.0026 - val_accuracy: 0.9995\n",
      "Epoch 67/100\n",
      "7121/7121 [==============================] - 28s 4ms/step - loss: 0.0013 - accuracy: 0.9997 - val_loss: 0.0023 - val_accuracy: 0.9996\n",
      "Epoch 68/100\n",
      "7121/7121 [==============================] - 28s 4ms/step - loss: 0.0013 - accuracy: 0.9997 - val_loss: 0.0024 - val_accuracy: 0.9996\n",
      "Epoch 69/100\n",
      "7121/7121 [==============================] - 28s 4ms/step - loss: 0.0013 - accuracy: 0.9997 - val_loss: 0.0024 - val_accuracy: 0.9996\n",
      "Epoch 70/100\n",
      "7121/7121 [==============================] - 27s 4ms/step - loss: 0.0013 - accuracy: 0.9997 - val_loss: 0.0023 - val_accuracy: 0.9996\n",
      "Epoch 71/100\n",
      "7121/7121 [==============================] - 27s 4ms/step - loss: 0.0013 - accuracy: 0.9997 - val_loss: 0.0023 - val_accuracy: 0.9996\n",
      "Epoch 72/100\n",
      "7121/7121 [==============================] - 28s 4ms/step - loss: 0.0013 - accuracy: 0.9997 - val_loss: 0.0024 - val_accuracy: 0.9996\n",
      "Epoch 73/100\n",
      "7121/7121 [==============================] - 28s 4ms/step - loss: 0.0012 - accuracy: 0.9997 - val_loss: 0.0024 - val_accuracy: 0.9996\n",
      "Epoch 74/100\n",
      "7121/7121 [==============================] - 27s 4ms/step - loss: 0.0012 - accuracy: 0.9997 - val_loss: 0.0025 - val_accuracy: 0.9996\n",
      "Epoch 75/100\n",
      "7121/7121 [==============================] - 27s 4ms/step - loss: 0.0012 - accuracy: 0.9997 - val_loss: 0.0023 - val_accuracy: 0.9996\n",
      "Epoch 76/100\n",
      "7121/7121 [==============================] - 27s 4ms/step - loss: 0.0012 - accuracy: 0.9997 - val_loss: 0.0023 - val_accuracy: 0.9996\n",
      "Epoch 77/100\n",
      "7121/7121 [==============================] - 28s 4ms/step - loss: 0.0012 - accuracy: 0.9997 - val_loss: 0.0024 - val_accuracy: 0.9996\n",
      "Epoch 78/100\n",
      "7121/7121 [==============================] - 28s 4ms/step - loss: 0.0012 - accuracy: 0.9997 - val_loss: 0.0024 - val_accuracy: 0.9996\n",
      "Epoch 79/100\n",
      "7121/7121 [==============================] - 27s 4ms/step - loss: 0.0012 - accuracy: 0.9997 - val_loss: 0.0024 - val_accuracy: 0.9996\n",
      "Epoch 80/100\n",
      "7121/7121 [==============================] - 27s 4ms/step - loss: 0.0012 - accuracy: 0.9997 - val_loss: 0.0024 - val_accuracy: 0.9996\n",
      "Epoch 81/100\n",
      "7121/7121 [==============================] - 28s 4ms/step - loss: 0.0012 - accuracy: 0.9997 - val_loss: 0.0024 - val_accuracy: 0.9995\n",
      "Epoch 82/100\n",
      "7121/7121 [==============================] - 28s 4ms/step - loss: 0.0012 - accuracy: 0.9997 - val_loss: 0.0024 - val_accuracy: 0.9996\n",
      "Epoch 83/100\n",
      "7121/7121 [==============================] - 28s 4ms/step - loss: 0.0012 - accuracy: 0.9997 - val_loss: 0.0024 - val_accuracy: 0.9996\n",
      "Epoch 84/100\n",
      "7121/7121 [==============================] - 27s 4ms/step - loss: 0.0011 - accuracy: 0.9997 - val_loss: 0.0024 - val_accuracy: 0.9996\n",
      "Epoch 85/100\n",
      "7121/7121 [==============================] - 27s 4ms/step - loss: 0.0011 - accuracy: 0.9997 - val_loss: 0.0024 - val_accuracy: 0.9996\n",
      "Epoch 86/100\n",
      "7121/7121 [==============================] - 29s 4ms/step - loss: 0.0011 - accuracy: 0.9997 - val_loss: 0.0024 - val_accuracy: 0.9996\n",
      "Epoch 87/100\n",
      "7121/7121 [==============================] - 27s 4ms/step - loss: 0.0011 - accuracy: 0.9997 - val_loss: 0.0026 - val_accuracy: 0.9995\n",
      "Epoch 88/100\n",
      "7121/7121 [==============================] - 28s 4ms/step - loss: 0.0011 - accuracy: 0.9997 - val_loss: 0.0026 - val_accuracy: 0.9995\n",
      "Epoch 89/100\n",
      "7121/7121 [==============================] - 29s 4ms/step - loss: 0.0011 - accuracy: 0.9997 - val_loss: 0.0024 - val_accuracy: 0.9996\n",
      "Epoch 90/100\n",
      "7121/7121 [==============================] - 27s 4ms/step - loss: 0.0011 - accuracy: 0.9998 - val_loss: 0.0024 - val_accuracy: 0.9996\n",
      "Epoch 91/100\n",
      "7121/7121 [==============================] - 28s 4ms/step - loss: 0.0010 - accuracy: 0.9998 - val_loss: 0.0024 - val_accuracy: 0.9996\n",
      "Epoch 92/100\n",
      "7121/7121 [==============================] - 27s 4ms/step - loss: 0.0011 - accuracy: 0.9998 - val_loss: 0.0025 - val_accuracy: 0.9996\n",
      "Epoch 93/100\n",
      "7121/7121 [==============================] - 28s 4ms/step - loss: 0.0011 - accuracy: 0.9997 - val_loss: 0.0025 - val_accuracy: 0.9996\n",
      "Epoch 94/100\n",
      "7121/7121 [==============================] - 28s 4ms/step - loss: 0.0010 - accuracy: 0.9998 - val_loss: 0.0024 - val_accuracy: 0.9996\n",
      "Epoch 95/100\n",
      "7121/7121 [==============================] - 28s 4ms/step - loss: 0.0011 - accuracy: 0.9997 - val_loss: 0.0025 - val_accuracy: 0.9996\n",
      "Epoch 96/100\n",
      "7121/7121 [==============================] - 28s 4ms/step - loss: 0.0010 - accuracy: 0.9998 - val_loss: 0.0025 - val_accuracy: 0.9996\n",
      "Epoch 97/100\n",
      "7121/7121 [==============================] - 28s 4ms/step - loss: 9.7100e-04 - accuracy: 0.9998 - val_loss: 0.0024 - val_accuracy: 0.9996\n",
      "Epoch 98/100\n",
      "7121/7121 [==============================] - 28s 4ms/step - loss: 0.0010 - accuracy: 0.9997 - val_loss: 0.0036 - val_accuracy: 0.9991\n",
      "Epoch 99/100\n",
      "7121/7121 [==============================] - 28s 4ms/step - loss: 0.0011 - accuracy: 0.9997 - val_loss: 0.0024 - val_accuracy: 0.9996\n",
      "Epoch 100/100\n",
      "7121/7121 [==============================] - 28s 4ms/step - loss: 9.9854e-04 - accuracy: 0.9998 - val_loss: 0.0024 - val_accuracy: 0.9996\n"
     ]
    }
   ],
   "source": [
    "history = model.fit(X_train_trans, Y_train, epochs =100, validation_data = (X_test_trans,Y_test))"
   ]
  },
  {
   "cell_type": "code",
   "execution_count": 64,
   "id": "4bbec841",
   "metadata": {
    "id": "4bbec841"
   },
   "outputs": [
    {
     "name": "stdout",
     "output_type": "stream",
     "text": [
      "1781/1781 [==============================] - 4s 2ms/step\n"
     ]
    },
    {
     "data": {
      "text/plain": [
       "array([[9.9997115e-01, 2.8832555e-05],\n",
       "       [9.9999487e-01, 5.1595016e-06],\n",
       "       [9.9999988e-01, 1.4309964e-07],\n",
       "       ...,\n",
       "       [9.9990034e-01, 9.9627177e-05],\n",
       "       [9.9999952e-01, 4.8616545e-07],\n",
       "       [9.9998212e-01, 1.7901353e-05]], dtype=float32)"
      ]
     },
     "execution_count": 64,
     "metadata": {},
     "output_type": "execute_result"
    }
   ],
   "source": [
    "y_hat = model.predict(X_test_trans)\n",
    "y_hat"
   ]
  },
  {
   "cell_type": "code",
   "execution_count": 65,
   "id": "c43c2209",
   "metadata": {},
   "outputs": [
    {
     "data": {
      "text/plain": [
       "array([0, 0, 0, ..., 0, 0, 0], dtype=int64)"
      ]
     },
     "execution_count": 65,
     "metadata": {},
     "output_type": "execute_result"
    }
   ],
   "source": [
    "y_hat = np.argmax(y_hat, axis = -1)\n",
    "y_hat"
   ]
  },
  {
   "cell_type": "code",
   "execution_count": 66,
   "id": "e500f3f2",
   "metadata": {},
   "outputs": [
    {
     "data": {
      "text/plain": [
       "0.9996137776061234"
      ]
     },
     "execution_count": 66,
     "metadata": {},
     "output_type": "execute_result"
    }
   ],
   "source": [
    "accuracy_score(Y_test, y_hat)"
   ]
  },
  {
   "cell_type": "code",
   "execution_count": 67,
   "id": "ec0f9bd1",
   "metadata": {},
   "outputs": [
    {
     "data": {
      "image/png": "[encoded data removed]",
      "text/plain": [
       "<Figure size 432x288 with 2 Axes>"
      ]
     },
     "metadata": {
      "needs_background": "light"
     },
     "output_type": "display_data"
    }
   ],
   "source": [
    "plot_matriz_conf(Y_test, y_hat)"
   ]
  },
  {
   "cell_type": "markdown",
   "id": "3aec8dd3",
   "metadata": {},
   "source": [
    "Vamos tentar melhorar o resultado quando houve fraude"
   ]
  },
  {
   "cell_type": "markdown",
   "id": "5933bccb",
   "metadata": {},
   "source": [
    "# Conclusão"
   ]
  },
  {
   "cell_type": "markdown",
   "id": "a6aac7b6",
   "metadata": {},
   "source": [
    "Todos os modelos treinado estão próximos de atingir 100% de acerto na identificação de fraude. Isso ocorre porque é muito simples detectar quando não houve fraude, nos descobrimos anteriormente que amount_disc > 1 indicava fortemente a ausência de fraude, concerteza os modelos percebera isso. Os modelos pecam na hora de detectar quando ocorre a fraude, esse seria o erro que traria mais prejuízo.\n",
    "* A DecisionTreeClassifier obteve um acerto de 79,59% no acerto de houve fraude \n",
    "* A Regressão Logística obteve um acerto de 67,34% no acerto de houve fraude \n",
    "* O KNeighborsClassifier obteve um acerto de 81,63% no acerto de houve fraude\n",
    "* A Rede neural obteve um acerto de 82,65% no acerto de houve fraude\n",
    "\n",
    "Uma solução seria modificar a Loss dos modelos para penalizá-los mais quando erram o rótulo de houve fraude o colocando como não houve fraude."
   ]
  },
  {
   "cell_type": "markdown",
   "id": "2b7dcda2",
   "metadata": {},
   "source": [
    "A Rede Neural foi o modelo que performou melhor."
   ]
  }
 ],
 "metadata": {
  "colab": {
   "provenance": []
  },
  "kernelspec": {
   "display_name": "Python 3 (ipykernel)",
   "language": "python",
   "name": "python3"
  },
  "language_info": {
   "codemirror_mode": {
    "name": "ipython",
    "version": 3
   },
   "file_extension": ".py",
   "mimetype": "text/x-python",
   "name": "python",
   "nbconvert_exporter": "python",
   "pygments_lexer": "ipython3",
   "version": "3.9.12"
  }
 },
 "nbformat": 4,
 "nbformat_minor": 5
}
