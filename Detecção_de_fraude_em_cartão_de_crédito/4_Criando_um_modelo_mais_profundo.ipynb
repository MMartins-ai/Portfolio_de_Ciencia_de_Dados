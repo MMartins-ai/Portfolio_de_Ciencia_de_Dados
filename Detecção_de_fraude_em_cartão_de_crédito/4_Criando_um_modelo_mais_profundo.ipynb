{
  "nbformat": 4,
  "nbformat_minor": 0,
  "metadata": {
    "colab": {
      "provenance": []
    },
    "kernelspec": {
      "name": "python3",
      "display_name": "Python 3"
    },
    "language_info": {
      "name": "python"
    },
    "accelerator": "GPU",
    "gpuClass": "standard"
  },
  "cells": [
    {
      "cell_type": "markdown",
      "source": [
        "Tomaremos o melhor modelo para detectar a ocorrencia de fraude e tentaremos melhorá-lo incluindo mais camadas na rede.\n",
        "\n"
      ],
      "metadata": {
        "id": "bNmOlraNxhSg"
      }
    },
    {
      "cell_type": "code",
      "execution_count": null,
      "metadata": {
        "id": "rVqIMI3-xZlf"
      },
      "outputs": [],
      "source": [
        "#Importando bibliotecas\n",
        "import tensorflow as tf\n",
        "from tensorflow import keras\n",
        "\n",
        "import matplotlib.pyplot as plt\n",
        "import numpy as np\n",
        "import pandas as pd\n",
        "import seaborn as sns\n",
        "\n",
        "import sklearn\n",
        "from sklearn.metrics import confusion_matrix\n",
        "from sklearn.preprocessing import StandardScaler \n",
        "from sklearn.model_selection import train_test_split"
      ]
    },
    {
      "cell_type": "code",
      "source": [
        "credit_tl = pd.read_csv('credit_tl.csv') #Dados que passaram por TOMEK LINKS\n",
        "credit_tl.drop(columns = [credit_tl.columns[0],credit_tl.columns[1]], inplace=True)\n",
        "\n",
        "credit_test = pd.read_csv('credit_teste.csv') # Conjunto de teste\n",
        "credit_test.drop(columns=[credit_test.columns[0],credit_test.columns[1]],inplace=True)\n",
        "\n",
        "X_test, X_val, y_test, y_val = train_test_split(credit_test.iloc[:,:-1],credit_test.iloc[:,-1], test_size =0.2)  #Dividindo conjunto de teste em teste e validação para usar futuramente no treinamento do modelo\n",
        "\n",
        "# Dividindo cada conjunto de dados em X e Y\n",
        "X_tl, y_tl = credit_tl.iloc[:,:-1], credit_tl.iloc[:,-1]"
      ],
      "metadata": {
        "id": "BpIvQV8nx2Do"
      },
      "execution_count": null,
      "outputs": []
    },
    {
      "cell_type": "code",
      "source": [
        "scaler_tl = StandardScaler() # Normalizando os dados para terem média 0 e desvio padrão 1\n",
        "\n",
        "X_tl_train = scaler_tl.fit_transform(X_tl)\n",
        "X_test_tl = scaler_tl.transform(X_test)\n",
        "X_val_tl = scaler_tl.transform(X_val)\n",
        "\n",
        "print(f'Quantidade de registro em X_tl_train: {X_tl_train.shape[0]}')"
      ],
      "metadata": {
        "colab": {
          "base_uri": "https://localhost:8080/"
        },
        "id": "HsAWIOBiyCh7",
        "outputId": "84da2b56-a7e7-4a95-986f-e3e8d7e9782a"
      },
      "execution_count": null,
      "outputs": [
        {
          "output_type": "stream",
          "name": "stdout",
          "text": [
            "Quantidade de registro em X_tl_train: 227828\n"
          ]
        }
      ]
    },
    {
      "cell_type": "markdown",
      "source": [
        "# Definindo parâmetros úteis para os modelos"
      ],
      "metadata": {
        "id": "bbcp2H-LyO8g"
      }
    },
    {
      "cell_type": "code",
      "source": [
        "# Definindo métricas para o modelo\n",
        "\n",
        "metricas = [\n",
        "    keras.metrics.TruePositives(name='VV'),\n",
        "    keras.metrics.TrueNegatives(name='VN'),\n",
        "    keras.metrics.FalsePositives(name='FP'),\n",
        "    keras.metrics.FalseNegatives(name='FN'),\n",
        "    keras.metrics.BinaryAccuracy(name='acurácia'),\n",
        "    keras.metrics.Precision(name='Precisão'),\n",
        "    keras.metrics.Recall(name='Recall'),\n",
        "    keras.metrics.AUC(name='AUC'),\n",
        "    keras.metrics.AUC(name='PRC',curve='PR')\n",
        "]\n",
        "\n",
        "# Definindo Modelo\n",
        "\n",
        "def make_model(metrics = metricas, output_bias=None):\n",
        "  if output_bias is not None:\n",
        "    output_bias = keras.initializer.Constant(output_bias)\n",
        "\n",
        "  model = keras.Sequential([\n",
        "      keras.layers.Flatten(),\n",
        "      keras.layers.Dense(100, activation='relu'),\n",
        "      keras.layers.Dropout(0.5),\n",
        "      keras.layers.Dense(100, activation='relu'),\n",
        "      keras.layers.Dropout(0.5),\n",
        "      keras.layers.Dense(100, activation='relu'),\n",
        "      keras.layers.Dropout(0.5),\n",
        "      keras.layers.Dense(100, activation='relu'),\n",
        "      keras.layers.Dropout(0.5),\n",
        "      keras.layers.Dense(100, activation='relu'),\n",
        "      keras.layers.Dropout(0.5),\n",
        "      keras.layers.Dense(1, activation='sigmoid', bias_initializer = output_bias)\n",
        "  ])\n",
        "\n",
        "  model.compile(optimizer = keras.optimizers.Adam(learning_rate = 1e-3),\n",
        "                loss = keras.losses.BinaryCrossentropy(),\n",
        "                metrics=metrics)\n",
        "  \n",
        "  return model\n",
        "\n",
        "early_stopping = keras.callbacks.EarlyStopping(\n",
        "    monitor='val_PRC',\n",
        "    verbose=1,\n",
        "    patience=10,\n",
        "    mode='max',\n",
        "    restore_best_weights = True\n",
        ")"
      ],
      "metadata": {
        "id": "eeyHtkvXyKkd"
      },
      "execution_count": null,
      "outputs": []
    },
    {
      "cell_type": "markdown",
      "source": [
        "# Definindo funções para analisar as métricas"
      ],
      "metadata": {
        "id": "_-cDgsEXyaO1"
      }
    },
    {
      "cell_type": "code",
      "source": [
        "# Definindo função para plotar metricas\n",
        "\n",
        "def plot_metrics(history):\n",
        "  metrics = ['loss','PRC','Precisão','Recall']\n",
        "  for n,metric in enumerate(metrics):\n",
        "    name = metric.replace('_',' ').capitalize()\n",
        "    plt.subplot(2,2,n+1)\n",
        "    plt.plot(history.epoch, history.history[metric], label = 'Train')\n",
        "    plt.plot(history.epoch, history.history['val_'+metric], label='Val',linestyle='--')\n",
        "    plt.xlabel('Epoch')\n",
        "    plt.ylabel(name)\n",
        "    if metric == 'loss':\n",
        "      plt.ylim([0, plt.ylim()[1]])\n",
        "    elif metric == 'auc':\n",
        "      plt.ylim([0.8,1])\n",
        "    else:\n",
        "      plt.ylim([0,1])\n",
        "\n",
        "    plt.legend()\n",
        "\n",
        "# Plota matriz de confusão\n",
        "\n",
        "def plot_matriz_conf(y, y_hat,p=0.5):\n",
        "    from sklearn.metrics import confusion_matrix\n",
        "    cm = confusion_matrix(y, y_hat>p)\n",
        "    sns.heatmap(cm, annot=True)\n",
        "    plt.ylabel('Rótulos verdadeiros')\n",
        "    plt.xlabel('Rótulos previstos')\n",
        "    plt.xticks([.5,1.5],['Não Houve fraude','houve fraude'], rotation=0)\n",
        "    plt.yticks([0.5,1.5],['Não Houve fraude','houve fraude'],rotation=0)\n",
        "    plt.title('Matriz de Confusão')\n",
        "  \n",
        "# Função para plotar ROC\n",
        "\n",
        "def plot_roc(name, labels, predictions, **kwargs):\n",
        "  fp, tp, _ = sklearn.metrics.roc_curve(labels, predictions)\n",
        "\n",
        "  plt.plot(100*fp, 100*tp, label=name, linewidth = 2, **kwargs)\n",
        "  plt.xlabel('Falso Positivo [%]')\n",
        "  plt.ylabel('Verdadeiro Positivo [%]')\n",
        "  plt.xlim([-0.5,20])\n",
        "  plt.ylim([80,100.5])\n",
        "  plt.grid(True)\n",
        "  ax = plt.gca()\n",
        "  ax.set_aspect('equal')\n",
        "\n",
        "# Função para plotar curva PR\n",
        "\n",
        "def plot_prc(name, labels,predictions, **kwargs):\n",
        "  precision, recall, _ = sklearn.metrics.precision_recall_curve(labels, predictions)\n",
        "\n",
        "  plt.plot(precision, recall, label=name, linewidth=2, **kwargs)\n",
        "  plt.xlabel('Precisão')\n",
        "  plt.ylabel('Recall')\n",
        "  plt.grid(True)\n",
        "  ax = plt.gca()\n",
        "  ax.set_aspect('equal')\n",
        "\n",
        "# Função para plotar curva PR\n",
        "\n",
        "def plot_prc(name, labels,predictions, **kwargs):\n",
        "  precision, recall, _ = sklearn.metrics.precision_recall_curve(labels, predictions)\n",
        "\n",
        "  plt.plot(precision, recall, label=name, linewidth=2, **kwargs)\n",
        "  plt.xlabel('Precisão')\n",
        "  plt.ylabel('Recall')\n",
        "  plt.grid(True)\n",
        "  ax = plt.gca()\n",
        "  ax.set_aspect('equal')"
      ],
      "metadata": {
        "id": "8l6V5tC_yXc9"
      },
      "execution_count": null,
      "outputs": []
    },
    {
      "cell_type": "markdown",
      "source": [
        "# Treinando e analisando modelo"
      ],
      "metadata": {
        "id": "FWET4uwAyyWx"
      }
    },
    {
      "cell_type": "code",
      "source": [
        "# Calculando quantidade de rótulos negativos e positivos\n",
        "credit_df = pd.read_csv('creditcard.csv')\n",
        "neg, pos = np.bincount(credit_df['Class'])\n",
        "total = neg+pos\n",
        "\n",
        "# Modificando peso do modelo para dar mais atenção ao caso fraudulento \n",
        "\n",
        "peso_0 = (1/neg)*(total/2)\n",
        "peso_1 = (1/pos)*(total/2)\n",
        "\n",
        "class_weight = {0:peso_0, 1:peso_1}\n",
        "\n",
        "print(f'O peso da classe 0 será {peso_0}')\n",
        "print(f'O peso da classe 1 será {peso_1}')\n"
      ],
      "metadata": {
        "colab": {
          "base_uri": "https://localhost:8080/"
        },
        "id": "a-ZIz4LEyuml",
        "outputId": "725d7e33-6839-4061-e150-3cd3b48a4fb0"
      },
      "execution_count": null,
      "outputs": [
        {
          "output_type": "stream",
          "name": "stdout",
          "text": [
            "O peso da classe 0 será 0.5008652375006595\n",
            "O peso da classe 1 será 289.43800813008136\n"
          ]
        }
      ]
    },
    {
      "cell_type": "code",
      "source": [
        "# Treinando para os dados que sofreram Tomek Links\n",
        "weighted_model_tl = make_model()\n",
        "EPOCHS = 100\n",
        "\n",
        "history_tl = weighted_model_tl.fit(\n",
        "    X_tl_train,\n",
        "    y_tl,\n",
        "    epochs = EPOCHS,\n",
        "    callbacks = [early_stopping],\n",
        "    validation_data = (X_val_tl,y_val),\n",
        "    class_weight = class_weight\n",
        ")"
      ],
      "metadata": {
        "colab": {
          "base_uri": "https://localhost:8080/"
        },
        "id": "JcM3CXqYy66h",
        "outputId": "30d45827-819b-4aff-f249-32b1353a81a9"
      },
      "execution_count": null,
      "outputs": [
        {
          "output_type": "stream",
          "name": "stdout",
          "text": [
            "Epoch 1/100\n",
            "7120/7120 [==============================] - 59s 7ms/step - loss: 2.9351 - VV: 290.0000 - VN: 200327.0000 - FP: 27106.0000 - FN: 105.0000 - acurácia: 0.8806 - Precisão: 0.0106 - Recall: 0.7342 - AUC: 0.8464 - PRC: 0.0711 - val_loss: 0.1108 - val_VV: 17.0000 - val_VN: 10757.0000 - val_FP: 616.0000 - val_FN: 3.0000 - val_acurácia: 0.9457 - val_Precisão: 0.0269 - val_Recall: 0.8500 - val_AUC: 0.9744 - val_PRC: 0.8059\n",
            "Epoch 2/100\n",
            "7120/7120 [==============================] - 45s 6ms/step - loss: 1.3594 - VV: 319.0000 - VN: 206441.0000 - FP: 20992.0000 - FN: 76.0000 - acurácia: 0.9075 - Precisão: 0.0150 - Recall: 0.8076 - AUC: 0.9067 - PRC: 0.1028 - val_loss: 0.0266 - val_VV: 16.0000 - val_VN: 11343.0000 - val_FP: 30.0000 - val_FN: 4.0000 - val_acurácia: 0.9970 - val_Precisão: 0.3478 - val_Recall: 0.8000 - val_AUC: 0.9666 - val_PRC: 0.6830\n",
            "Epoch 3/100\n",
            "7120/7120 [==============================] - 48s 7ms/step - loss: 2.9000 - VV: 294.0000 - VN: 206096.0000 - FP: 21337.0000 - FN: 101.0000 - acurácia: 0.9059 - Precisão: 0.0136 - Recall: 0.7443 - AUC: 0.8793 - PRC: 0.0520 - val_loss: 0.0248 - val_VV: 17.0000 - val_VN: 11293.0000 - val_FP: 80.0000 - val_FN: 3.0000 - val_acurácia: 0.9927 - val_Precisão: 0.1753 - val_Recall: 0.8500 - val_AUC: 0.9724 - val_PRC: 0.6684\n",
            "Epoch 4/100\n",
            "7120/7120 [==============================] - 45s 6ms/step - loss: 1.9935 - VV: 306.0000 - VN: 215000.0000 - FP: 12433.0000 - FN: 89.0000 - acurácia: 0.9450 - Precisão: 0.0240 - Recall: 0.7747 - AUC: 0.9053 - PRC: 0.0589 - val_loss: 0.0756 - val_VV: 17.0000 - val_VN: 11062.0000 - val_FP: 311.0000 - val_FN: 3.0000 - val_acurácia: 0.9724 - val_Precisão: 0.0518 - val_Recall: 0.8500 - val_AUC: 0.9432 - val_PRC: 0.3228\n",
            "Epoch 5/100\n",
            "7120/7120 [==============================] - 45s 6ms/step - loss: 3.1070 - VV: 331.0000 - VN: 213663.0000 - FP: 13770.0000 - FN: 64.0000 - acurácia: 0.9393 - Precisão: 0.0235 - Recall: 0.8380 - AUC: 0.9216 - PRC: 0.0659 - val_loss: 0.0379 - val_VV: 17.0000 - val_VN: 11196.0000 - val_FP: 177.0000 - val_FN: 3.0000 - val_acurácia: 0.9842 - val_Precisão: 0.0876 - val_Recall: 0.8500 - val_AUC: 0.9712 - val_PRC: 0.7671\n",
            "Epoch 6/100\n",
            "7120/7120 [==============================] - 45s 6ms/step - loss: 2.7693 - VV: 339.0000 - VN: 216105.0000 - FP: 11328.0000 - FN: 56.0000 - acurácia: 0.9500 - Precisão: 0.0291 - Recall: 0.8582 - AUC: 0.9370 - PRC: 0.0878 - val_loss: 0.0566 - val_VV: 18.0000 - val_VN: 11133.0000 - val_FP: 240.0000 - val_FN: 2.0000 - val_acurácia: 0.9788 - val_Precisão: 0.0698 - val_Recall: 0.9000 - val_AUC: 0.9465 - val_PRC: 0.7526\n",
            "Epoch 7/100\n",
            "7120/7120 [==============================] - 45s 6ms/step - loss: 4.8938 - VV: 343.0000 - VN: 217729.0000 - FP: 9704.0000 - FN: 52.0000 - acurácia: 0.9572 - Precisão: 0.0341 - Recall: 0.8684 - AUC: 0.9412 - PRC: 0.1117 - val_loss: 0.0535 - val_VV: 18.0000 - val_VN: 11189.0000 - val_FP: 184.0000 - val_FN: 2.0000 - val_acurácia: 0.9837 - val_Precisão: 0.0891 - val_Recall: 0.9000 - val_AUC: 0.9711 - val_PRC: 0.6413\n",
            "Epoch 8/100\n",
            "7120/7120 [==============================] - 45s 6ms/step - loss: 3.7880 - VV: 345.0000 - VN: 218233.0000 - FP: 9200.0000 - FN: 50.0000 - acurácia: 0.9594 - Precisão: 0.0361 - Recall: 0.8734 - AUC: 0.9386 - PRC: 0.1133 - val_loss: 0.0677 - val_VV: 18.0000 - val_VN: 11155.0000 - val_FP: 218.0000 - val_FN: 2.0000 - val_acurácia: 0.9807 - val_Precisão: 0.0763 - val_Recall: 0.9000 - val_AUC: 0.9477 - val_PRC: 0.6875\n",
            "Epoch 9/100\n",
            "7120/7120 [==============================] - 45s 6ms/step - loss: 4.0070 - VV: 359.0000 - VN: 216457.0000 - FP: 10976.0000 - FN: 36.0000 - acurácia: 0.9517 - Precisão: 0.0317 - Recall: 0.9089 - AUC: 0.9500 - PRC: 0.0963 - val_loss: 0.0360 - val_VV: 18.0000 - val_VN: 11241.0000 - val_FP: 132.0000 - val_FN: 2.0000 - val_acurácia: 0.9882 - val_Precisão: 0.1200 - val_Recall: 0.9000 - val_AUC: 0.9474 - val_PRC: 0.6853\n",
            "Epoch 10/100\n",
            "7120/7120 [==============================] - 44s 6ms/step - loss: 4.4404 - VV: 349.0000 - VN: 217690.0000 - FP: 9743.0000 - FN: 46.0000 - acurácia: 0.9570 - Precisão: 0.0346 - Recall: 0.8835 - AUC: 0.9406 - PRC: 0.0962 - val_loss: 0.0664 - val_VV: 19.0000 - val_VN: 11123.0000 - val_FP: 250.0000 - val_FN: 1.0000 - val_acurácia: 0.9780 - val_Precisão: 0.0706 - val_Recall: 0.9500 - val_AUC: 0.9727 - val_PRC: 0.7222\n",
            "Epoch 11/100\n",
            "7120/7120 [==============================] - ETA: 0s - loss: 4.2148 - VV: 354.0000 - VN: 214801.0000 - FP: 12632.0000 - FN: 41.0000 - acurácia: 0.9444 - Precisão: 0.0273 - Recall: 0.8962 - AUC: 0.9483 - PRC: 0.0903Restoring model weights from the end of the best epoch: 1.\n",
            "7120/7120 [==============================] - 45s 6ms/step - loss: 4.2148 - VV: 354.0000 - VN: 214801.0000 - FP: 12632.0000 - FN: 41.0000 - acurácia: 0.9444 - Precisão: 0.0273 - Recall: 0.8962 - AUC: 0.9483 - PRC: 0.0903 - val_loss: 0.0536 - val_VV: 18.0000 - val_VN: 11172.0000 - val_FP: 201.0000 - val_FN: 2.0000 - val_acurácia: 0.9822 - val_Precisão: 0.0822 - val_Recall: 0.9000 - val_AUC: 0.9481 - val_PRC: 0.7854\n",
            "Epoch 11: early stopping\n"
          ]
        }
      ]
    },
    {
      "cell_type": "code",
      "source": [
        "#Plotando o valor das métricas por época\n",
        "plot_metrics(history_tl) "
      ],
      "metadata": {
        "colab": {
          "base_uri": "https://localhost:8080/",
          "height": 283
        },
        "id": "o4MBjux8y7qe",
        "outputId": "adfd03a5-0134-4b7a-cb9c-2ac70cba04ee"
      },
      "execution_count": null,
      "outputs": [
        {
          "output_type": "display_data",
          "data": {
            "text/plain": [
              "<Figure size 432x288 with 4 Axes>"
            ],
            "image/png": "[encoded data removed]"
          },
          "metadata": {
            "needs_background": "light"
          }
        }
      ]
    },
    {
      "cell_type": "markdown",
      "source": [
        "O uso do earliestopping fez o modelo parar antes de completar as 100 épocas, pelo gráfico da loss o modelo não convergiu para uma loss menor ao longo das épocas. Esse não é um modelo confiável, não poderemos usá-lo como o melhor modelo. Seguirimos, porém, com a análise de outras métricas."
      ],
      "metadata": {
        "id": "CZVDhu4tcBVH"
      }
    },
    {
      "cell_type": "code",
      "source": [
        "#Fazendo previsões\n",
        "train_predictions_model = weighted_model_tl.predict(X_tl_train)\n",
        "test_predictions_model = weighted_model_tl.predict(X_test_tl)\n",
        "\n",
        "model_tl_result = weighted_model_tl.evaluate(X_test_tl, y_test)\n",
        "\n",
        "#Escrevendo valores úteis\n",
        "for name, value in zip(weighted_model_tl.metrics_names, model_tl_result):\n",
        "  print(f'{name} : {value}')\n",
        "\n",
        "#Plotando matriz de confusão\n",
        "print()\n",
        "plot_matriz_conf(y_test, test_predictions_model) "
      ],
      "metadata": {
        "colab": {
          "base_uri": "https://localhost:8080/"
        },
        "id": "HbANbqNIzAex",
        "outputId": "048a6824-e59c-4122-8e11-70ad6dda6a91"
      },
      "execution_count": null,
      "outputs": [
        {
          "output_type": "stream",
          "name": "stdout",
          "text": [
            "7120/7120 [==============================] - 12s 2ms/step\n",
            "1425/1425 [==============================] - 2s 2ms/step\n",
            "1425/1425 [==============================] - 6s 4ms/step - loss: 0.1168 - VV: 72.0000 - VN: 42877.0000 - FP: 2615.0000 - FN: 5.0000 - acurácia: 0.9425 - Precisão: 0.0268 - Recall: 0.9351 - AUC: 0.9697 - PRC: 0.6529\n",
            "loss : 0.1168166920542717\n",
            "VV : 72.0\n",
            "VN : 42877.0\n",
            "FP : 2615.0\n",
            "FN : 5.0\n",
            "acurácia : 0.9425047636032104\n",
            "Precisão : 0.026795683428645134\n",
            "Recall : 0.9350649118423462\n",
            "AUC : 0.9697063565254211\n",
            "PRC : 0.6528600454330444\n",
            "\n"
          ]
        },
        {
          "output_type": "display_data",
          "data": {
            "text/plain": [
              "<Figure size 432x288 with 2 Axes>"
            ],
            "image/png": "[encoded data removed]"
          },
          "metadata": {
            "needs_background": "light"
          }
        }
      ]
    },
    {
      "cell_type": "markdown",
      "source": [
        "Esse foi o melhor modelo quando consideramos apenas o recall, porém essa rede não foi muito treinada, provavelmente essa é a rede com os pesos após o fim da primeira época. Ela apresenta baixa precisão, com o uso de outras técnicas, esse modelo poderia ser útil. Seria necessário buscar melhores formas de convergência para termos um modelo confiável."
      ],
      "metadata": {
        "id": "VlBG3pzMc8NG"
      }
    },
    {
      "cell_type": "code",
      "source": [
        "#Plotando curva roc\n",
        "plot_roc('Conjunto de treino', y_tl, train_predictions_model)\n",
        "plot_roc('Conjunto de teste', y_test, test_predictions_model, linestyle = '--')"
      ],
      "metadata": {
        "colab": {
          "base_uri": "https://localhost:8080/"
        },
        "id": "MkkoluDqzDO4",
        "outputId": "db138f1d-8720-4232-a4c0-ff801cb33961"
      },
      "execution_count": null,
      "outputs": [
        {
          "output_type": "display_data",
          "data": {
            "text/plain": [
              "<Figure size 432x288 with 1 Axes>"
            ],
            "image/png": "[encoded data removed]"
          },
          "metadata": {
            "needs_background": "light"
          }
        }
      ]
    },
    {
      "cell_type": "code",
      "source": [
        "#Plotando curva prc\n",
        "plot_prc('Conjunto de treino', y_tl, train_predictions_model)\n",
        "plot_prc('Conjunto de teste', y_test, test_predictions_model, linestyle = '--')"
      ],
      "metadata": {
        "colab": {
          "base_uri": "https://localhost:8080/"
        },
        "id": "PYjlzCeozFgq",
        "outputId": "ed97e330-118e-4907-ff48-1e1230708a25"
      },
      "execution_count": null,
      "outputs": [
        {
          "output_type": "display_data",
          "data": {
            "text/plain": [
              "<Figure size 432x288 with 1 Axes>"
            ],
            "image/png": "[encoded data removed]"
          },
          "metadata": {
            "needs_background": "light"
          }
        }
      ]
    },
    {
      "cell_type": "code",
      "source": [],
      "metadata": {
        "id": "IWpDnv5U9u_8"
      },
      "execution_count": null,
      "outputs": []
    }
  ]
}