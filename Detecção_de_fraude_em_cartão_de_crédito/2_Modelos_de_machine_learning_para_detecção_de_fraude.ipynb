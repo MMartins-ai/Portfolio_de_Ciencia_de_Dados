{
  "cells": [
    {
      "cell_type": "markdown",
      "id": "7a28cc2d",
      "metadata": {
        "id": "7a28cc2d"
      },
      "source": [
        "# Criando Modelos\n",
        "\n",
        "Neste notebook, usarei os dados que passaram por resample para treinar os modelos de árvore e de kneighbors."
      ]
    },
    {
      "cell_type": "markdown",
      "id": "973984e2",
      "metadata": {
        "id": "973984e2"
      },
      "source": [
        "Vamos começar importando os dados"
      ]
    },
    {
      "cell_type": "code",
      "execution_count": null,
      "id": "1937509c",
      "metadata": {
        "id": "1937509c"
      },
      "outputs": [],
      "source": [
        "import pandas as pd\n",
        "import seaborn as sns\n",
        "import matplotlib.pyplot as plt\n",
        "import numpy as np"
      ]
    },
    {
      "cell_type": "code",
      "execution_count": null,
      "id": "4fbad4c3",
      "metadata": {
        "id": "4fbad4c3"
      },
      "outputs": [],
      "source": [
        "credit_tl = pd.read_csv('credit_tl.csv')\n",
        "credit_st = pd.read_csv('credit_st.csv')\n",
        "credit_test = pd.read_csv('credit_teste.csv')"
      ]
    },
    {
      "cell_type": "markdown",
      "id": "5946ab96",
      "metadata": {
        "id": "5946ab96"
      },
      "source": [
        "temos que eliminar a coluna Unnamed: 0, poderíamos ter usado-a como índice durante a exportação."
      ]
    },
    {
      "cell_type": "code",
      "execution_count": null,
      "id": "53554307",
      "metadata": {
        "scrolled": true,
        "colab": {
          "base_uri": "https://localhost:8080/",
          "height": 300
        },
        "id": "53554307",
        "outputId": "f4477cd5-0083-440d-b33f-66b929cf9e84"
      },
      "outputs": [
        {
          "output_type": "execute_result",
          "data": {
            "text/plain": [
              "         V1        V2        V3        V4        V5        V6        V7  \\\n",
              "0  1.941057  0.415781 -0.512265  3.933421  0.514942  0.609816  0.031752   \n",
              "1 -0.850710 -0.372685  2.699431 -1.682590 -1.550600 -0.346184 -0.200263   \n",
              "2  0.603151 -0.682241 -0.259877  1.998890 -0.221818 -0.291492  0.736498   \n",
              "3  1.069103 -0.040292  1.437476  2.879854 -0.785455  0.818819 -0.799661   \n",
              "4  1.948773 -0.322793 -1.117147  0.270697  0.199565  0.140961 -0.215924   \n",
              "\n",
              "         V8        V9       V10  ...       V21       V22       V23       V24  \\\n",
              "0  0.017980 -0.297818  1.195182  ... -0.413795 -0.863268  0.209640 -0.750306   \n",
              "1  0.185216 -0.708083 -0.238393  ... -0.073513 -0.046036  0.006349  0.369625   \n",
              "2 -0.298385 -0.633175  0.325693  ...  0.096216 -0.396078 -0.441605 -0.018673   \n",
              "3  0.438085  0.709929  0.389435  ...  0.029056  0.399293 -0.078798  0.084000   \n",
              "4  0.026514  0.443915  0.214834  ...  0.014251  0.080068  0.157960  0.256118   \n",
              "\n",
              "        V25       V26       V27       V28  Amount  Class  \n",
              "0 -0.010171 -0.217146 -0.004938 -0.051292       1      0  \n",
              "1 -0.019782  1.012083 -0.031982  0.071517       1      0  \n",
              "2  0.483193  1.011707 -0.154060  0.055141       1      0  \n",
              "3  0.487789  0.248265  0.054261  0.019949       1      0  \n",
              "4 -0.162430  0.200563 -0.049039 -0.054160       1      0  \n",
              "\n",
              "[5 rows x 30 columns]"
            ],
            "text/html": [
              "\n",
              "  <div id=\"df-81c418b4-a526-44c0-a02d-01e95e45b4a8\">\n",
              "    <div class=\"colab-df-container\">\n",
              "      <div>\n",
              "<style scoped>\n",
              "    .dataframe tbody tr th:only-of-type {\n",
              "        vertical-align: middle;\n",
              "    }\n",
              "\n",
              "    .dataframe tbody tr th {\n",
              "        vertical-align: top;\n",
              "    }\n",
              "\n",
              "    .dataframe thead th {\n",
              "        text-align: right;\n",
              "    }\n",
              "</style>\n",
              "<table border=\"1\" class=\"dataframe\">\n",
              "  <thead>\n",
              "    <tr style=\"text-align: right;\">\n",
              "      <th></th>\n",
              "      <th>V1</th>\n",
              "      <th>V2</th>\n",
              "      <th>V3</th>\n",
              "      <th>V4</th>\n",
              "      <th>V5</th>\n",
              "      <th>V6</th>\n",
              "      <th>V7</th>\n",
              "      <th>V8</th>\n",
              "      <th>V9</th>\n",
              "      <th>V10</th>\n",
              "      <th>...</th>\n",
              "      <th>V21</th>\n",
              "      <th>V22</th>\n",
              "      <th>V23</th>\n",
              "      <th>V24</th>\n",
              "      <th>V25</th>\n",
              "      <th>V26</th>\n",
              "      <th>V27</th>\n",
              "      <th>V28</th>\n",
              "      <th>Amount</th>\n",
              "      <th>Class</th>\n",
              "    </tr>\n",
              "  </thead>\n",
              "  <tbody>\n",
              "    <tr>\n",
              "      <th>0</th>\n",
              "      <td>1.941057</td>\n",
              "      <td>0.415781</td>\n",
              "      <td>-0.512265</td>\n",
              "      <td>3.933421</td>\n",
              "      <td>0.514942</td>\n",
              "      <td>0.609816</td>\n",
              "      <td>0.031752</td>\n",
              "      <td>0.017980</td>\n",
              "      <td>-0.297818</td>\n",
              "      <td>1.195182</td>\n",
              "      <td>...</td>\n",
              "      <td>-0.413795</td>\n",
              "      <td>-0.863268</td>\n",
              "      <td>0.209640</td>\n",
              "      <td>-0.750306</td>\n",
              "      <td>-0.010171</td>\n",
              "      <td>-0.217146</td>\n",
              "      <td>-0.004938</td>\n",
              "      <td>-0.051292</td>\n",
              "      <td>1</td>\n",
              "      <td>0</td>\n",
              "    </tr>\n",
              "    <tr>\n",
              "      <th>1</th>\n",
              "      <td>-0.850710</td>\n",
              "      <td>-0.372685</td>\n",
              "      <td>2.699431</td>\n",
              "      <td>-1.682590</td>\n",
              "      <td>-1.550600</td>\n",
              "      <td>-0.346184</td>\n",
              "      <td>-0.200263</td>\n",
              "      <td>0.185216</td>\n",
              "      <td>-0.708083</td>\n",
              "      <td>-0.238393</td>\n",
              "      <td>...</td>\n",
              "      <td>-0.073513</td>\n",
              "      <td>-0.046036</td>\n",
              "      <td>0.006349</td>\n",
              "      <td>0.369625</td>\n",
              "      <td>-0.019782</td>\n",
              "      <td>1.012083</td>\n",
              "      <td>-0.031982</td>\n",
              "      <td>0.071517</td>\n",
              "      <td>1</td>\n",
              "      <td>0</td>\n",
              "    </tr>\n",
              "    <tr>\n",
              "      <th>2</th>\n",
              "      <td>0.603151</td>\n",
              "      <td>-0.682241</td>\n",
              "      <td>-0.259877</td>\n",
              "      <td>1.998890</td>\n",
              "      <td>-0.221818</td>\n",
              "      <td>-0.291492</td>\n",
              "      <td>0.736498</td>\n",
              "      <td>-0.298385</td>\n",
              "      <td>-0.633175</td>\n",
              "      <td>0.325693</td>\n",
              "      <td>...</td>\n",
              "      <td>0.096216</td>\n",
              "      <td>-0.396078</td>\n",
              "      <td>-0.441605</td>\n",
              "      <td>-0.018673</td>\n",
              "      <td>0.483193</td>\n",
              "      <td>1.011707</td>\n",
              "      <td>-0.154060</td>\n",
              "      <td>0.055141</td>\n",
              "      <td>1</td>\n",
              "      <td>0</td>\n",
              "    </tr>\n",
              "    <tr>\n",
              "      <th>3</th>\n",
              "      <td>1.069103</td>\n",
              "      <td>-0.040292</td>\n",
              "      <td>1.437476</td>\n",
              "      <td>2.879854</td>\n",
              "      <td>-0.785455</td>\n",
              "      <td>0.818819</td>\n",
              "      <td>-0.799661</td>\n",
              "      <td>0.438085</td>\n",
              "      <td>0.709929</td>\n",
              "      <td>0.389435</td>\n",
              "      <td>...</td>\n",
              "      <td>0.029056</td>\n",
              "      <td>0.399293</td>\n",
              "      <td>-0.078798</td>\n",
              "      <td>0.084000</td>\n",
              "      <td>0.487789</td>\n",
              "      <td>0.248265</td>\n",
              "      <td>0.054261</td>\n",
              "      <td>0.019949</td>\n",
              "      <td>1</td>\n",
              "      <td>0</td>\n",
              "    </tr>\n",
              "    <tr>\n",
              "      <th>4</th>\n",
              "      <td>1.948773</td>\n",
              "      <td>-0.322793</td>\n",
              "      <td>-1.117147</td>\n",
              "      <td>0.270697</td>\n",
              "      <td>0.199565</td>\n",
              "      <td>0.140961</td>\n",
              "      <td>-0.215924</td>\n",
              "      <td>0.026514</td>\n",
              "      <td>0.443915</td>\n",
              "      <td>0.214834</td>\n",
              "      <td>...</td>\n",
              "      <td>0.014251</td>\n",
              "      <td>0.080068</td>\n",
              "      <td>0.157960</td>\n",
              "      <td>0.256118</td>\n",
              "      <td>-0.162430</td>\n",
              "      <td>0.200563</td>\n",
              "      <td>-0.049039</td>\n",
              "      <td>-0.054160</td>\n",
              "      <td>1</td>\n",
              "      <td>0</td>\n",
              "    </tr>\n",
              "  </tbody>\n",
              "</table>\n",
              "<p>5 rows × 30 columns</p>\n",
              "</div>\n",
              "      <button class=\"colab-df-convert\" onclick=\"convertToInteractive('df-81c418b4-a526-44c0-a02d-01e95e45b4a8')\"\n",
              "              title=\"Convert this dataframe to an interactive table.\"\n",
              "              style=\"display:none;\">\n",
              "        \n",
              "  <svg xmlns=\"http://www.w3.org/2000/svg\" height=\"24px\"viewBox=\"0 0 24 24\"\n",
              "       width=\"24px\">\n",
              "    <path d=\"M0 0h24v24H0V0z\" fill=\"none\"/>\n",
              "    <path d=\"M18.56 5.44l.94 2.06.94-2.06 2.06-.94-2.06-.94-.94-2.06-.94 2.06-2.06.94zm-11 1L8.5 8.5l.94-2.06 2.06-.94-2.06-.94L8.5 2.5l-.94 2.06-2.06.94zm10 10l.94 2.06.94-2.06 2.06-.94-2.06-.94-.94-2.06-.94 2.06-2.06.94z\"/><path d=\"M17.41 7.96l-1.37-1.37c-.4-.4-.92-.59-1.43-.59-.52 0-1.04.2-1.43.59L10.3 9.45l-7.72 7.72c-.78.78-.78 2.05 0 2.83L4 21.41c.39.39.9.59 1.41.59.51 0 1.02-.2 1.41-.59l7.78-7.78 2.81-2.81c.8-.78.8-2.07 0-2.86zM5.41 20L4 18.59l7.72-7.72 1.47 1.35L5.41 20z\"/>\n",
              "  </svg>\n",
              "      </button>\n",
              "      \n",
              "  <style>\n",
              "    .colab-df-container {\n",
              "      display:flex;\n",
              "      flex-wrap:wrap;\n",
              "      gap: 12px;\n",
              "    }\n",
              "\n",
              "    .colab-df-convert {\n",
              "      background-color: #E8F0FE;\n",
              "      border: none;\n",
              "      border-radius: 50%;\n",
              "      cursor: pointer;\n",
              "      display: none;\n",
              "      fill: #1967D2;\n",
              "      height: 32px;\n",
              "      padding: 0 0 0 0;\n",
              "      width: 32px;\n",
              "    }\n",
              "\n",
              "    .colab-df-convert:hover {\n",
              "      background-color: #E2EBFA;\n",
              "      box-shadow: 0px 1px 2px rgba(60, 64, 67, 0.3), 0px 1px 3px 1px rgba(60, 64, 67, 0.15);\n",
              "      fill: #174EA6;\n",
              "    }\n",
              "\n",
              "    [theme=dark] .colab-df-convert {\n",
              "      background-color: #3B4455;\n",
              "      fill: #D2E3FC;\n",
              "    }\n",
              "\n",
              "    [theme=dark] .colab-df-convert:hover {\n",
              "      background-color: #434B5C;\n",
              "      box-shadow: 0px 1px 3px 1px rgba(0, 0, 0, 0.15);\n",
              "      filter: drop-shadow(0px 1px 2px rgba(0, 0, 0, 0.3));\n",
              "      fill: #FFFFFF;\n",
              "    }\n",
              "  </style>\n",
              "\n",
              "      <script>\n",
              "        const buttonEl =\n",
              "          document.querySelector('#df-81c418b4-a526-44c0-a02d-01e95e45b4a8 button.colab-df-convert');\n",
              "        buttonEl.style.display =\n",
              "          google.colab.kernel.accessAllowed ? 'block' : 'none';\n",
              "\n",
              "        async function convertToInteractive(key) {\n",
              "          const element = document.querySelector('#df-81c418b4-a526-44c0-a02d-01e95e45b4a8');\n",
              "          const dataTable =\n",
              "            await google.colab.kernel.invokeFunction('convertToInteractive',\n",
              "                                                     [key], {});\n",
              "          if (!dataTable) return;\n",
              "\n",
              "          const docLinkHtml = 'Like what you see? Visit the ' +\n",
              "            '<a target=\"_blank\" href=https://colab.research.google.com/notebooks/data_table.ipynb>data table notebook</a>'\n",
              "            + ' to learn more about interactive tables.';\n",
              "          element.innerHTML = '';\n",
              "          dataTable['output_type'] = 'display_data';\n",
              "          await google.colab.output.renderOutput(dataTable, element);\n",
              "          const docLink = document.createElement('div');\n",
              "          docLink.innerHTML = docLinkHtml;\n",
              "          element.appendChild(docLink);\n",
              "        }\n",
              "      </script>\n",
              "    </div>\n",
              "  </div>\n",
              "  "
            ]
          },
          "metadata": {},
          "execution_count": 3
        }
      ],
      "source": [
        "credit_tl.drop(columns = [credit_tl.columns[0],credit_tl.columns[1]], inplace = True)\n",
        "credit_tl.head()"
      ]
    },
    {
      "cell_type": "code",
      "execution_count": null,
      "id": "e1be7f22",
      "metadata": {
        "colab": {
          "base_uri": "https://localhost:8080/"
        },
        "id": "e1be7f22",
        "outputId": "107143a7-4d6d-4074-fa1e-9728670486ad"
      },
      "outputs": [
        {
          "output_type": "execute_result",
          "data": {
            "text/plain": [
              "0"
            ]
          },
          "metadata": {},
          "execution_count": 4
        }
      ],
      "source": [
        "credit_tl.Amount.isna().sum() # não ha valores nulos"
      ]
    },
    {
      "cell_type": "code",
      "execution_count": null,
      "id": "97e53072",
      "metadata": {
        "id": "97e53072"
      },
      "outputs": [],
      "source": [
        "X_tl, y_tl = credit_tl.iloc[:,:-2],credit_tl.iloc[:,-1]"
      ]
    },
    {
      "cell_type": "code",
      "execution_count": null,
      "id": "3d9375d8",
      "metadata": {
        "colab": {
          "base_uri": "https://localhost:8080/",
          "height": 300
        },
        "id": "3d9375d8",
        "outputId": "d5b3c687-c4e6-46e6-99ef-0190e599d049"
      },
      "outputs": [
        {
          "output_type": "execute_result",
          "data": {
            "text/plain": [
              "         V1        V2        V3        V4        V5        V6        V7  \\\n",
              "0  1.941057  0.415781 -0.512265  3.933421  0.514942  0.609816  0.031752   \n",
              "1 -0.850710 -0.372685  2.699431 -1.682590 -1.550600 -0.346184 -0.200263   \n",
              "2  0.603151 -0.682241 -0.259877  1.998890 -0.221818 -0.291492  0.736498   \n",
              "3  1.069103 -0.040292  1.437476  2.879854 -0.785455  0.818819 -0.799661   \n",
              "4  1.948773 -0.322793 -1.117147  0.270697  0.199565  0.140961 -0.215924   \n",
              "\n",
              "         V8        V9       V10  ...       V21       V22       V23       V24  \\\n",
              "0  0.017980 -0.297818  1.195182  ... -0.413795 -0.863268  0.209640 -0.750306   \n",
              "1  0.185216 -0.708083 -0.238393  ... -0.073513 -0.046036  0.006349  0.369625   \n",
              "2 -0.298385 -0.633175  0.325693  ...  0.096216 -0.396078 -0.441605 -0.018673   \n",
              "3  0.438085  0.709929  0.389435  ...  0.029056  0.399293 -0.078798  0.084000   \n",
              "4  0.026514  0.443915  0.214834  ...  0.014251  0.080068  0.157960  0.256118   \n",
              "\n",
              "        V25       V26       V27       V28  Amount  Class  \n",
              "0 -0.010171 -0.217146 -0.004938 -0.051292       1      0  \n",
              "1 -0.019782  1.012083 -0.031982  0.071517       1      0  \n",
              "2  0.483193  1.011707 -0.154060  0.055141       1      0  \n",
              "3  0.487789  0.248265  0.054261  0.019949       1      0  \n",
              "4 -0.162430  0.200563 -0.049039 -0.054160       1      0  \n",
              "\n",
              "[5 rows x 30 columns]"
            ],
            "text/html": [
              "\n",
              "  <div id=\"df-aa2d7578-232a-45a1-bbe1-b4e872901ac0\">\n",
              "    <div class=\"colab-df-container\">\n",
              "      <div>\n",
              "<style scoped>\n",
              "    .dataframe tbody tr th:only-of-type {\n",
              "        vertical-align: middle;\n",
              "    }\n",
              "\n",
              "    .dataframe tbody tr th {\n",
              "        vertical-align: top;\n",
              "    }\n",
              "\n",
              "    .dataframe thead th {\n",
              "        text-align: right;\n",
              "    }\n",
              "</style>\n",
              "<table border=\"1\" class=\"dataframe\">\n",
              "  <thead>\n",
              "    <tr style=\"text-align: right;\">\n",
              "      <th></th>\n",
              "      <th>V1</th>\n",
              "      <th>V2</th>\n",
              "      <th>V3</th>\n",
              "      <th>V4</th>\n",
              "      <th>V5</th>\n",
              "      <th>V6</th>\n",
              "      <th>V7</th>\n",
              "      <th>V8</th>\n",
              "      <th>V9</th>\n",
              "      <th>V10</th>\n",
              "      <th>...</th>\n",
              "      <th>V21</th>\n",
              "      <th>V22</th>\n",
              "      <th>V23</th>\n",
              "      <th>V24</th>\n",
              "      <th>V25</th>\n",
              "      <th>V26</th>\n",
              "      <th>V27</th>\n",
              "      <th>V28</th>\n",
              "      <th>Amount</th>\n",
              "      <th>Class</th>\n",
              "    </tr>\n",
              "  </thead>\n",
              "  <tbody>\n",
              "    <tr>\n",
              "      <th>0</th>\n",
              "      <td>1.941057</td>\n",
              "      <td>0.415781</td>\n",
              "      <td>-0.512265</td>\n",
              "      <td>3.933421</td>\n",
              "      <td>0.514942</td>\n",
              "      <td>0.609816</td>\n",
              "      <td>0.031752</td>\n",
              "      <td>0.017980</td>\n",
              "      <td>-0.297818</td>\n",
              "      <td>1.195182</td>\n",
              "      <td>...</td>\n",
              "      <td>-0.413795</td>\n",
              "      <td>-0.863268</td>\n",
              "      <td>0.209640</td>\n",
              "      <td>-0.750306</td>\n",
              "      <td>-0.010171</td>\n",
              "      <td>-0.217146</td>\n",
              "      <td>-0.004938</td>\n",
              "      <td>-0.051292</td>\n",
              "      <td>1</td>\n",
              "      <td>0</td>\n",
              "    </tr>\n",
              "    <tr>\n",
              "      <th>1</th>\n",
              "      <td>-0.850710</td>\n",
              "      <td>-0.372685</td>\n",
              "      <td>2.699431</td>\n",
              "      <td>-1.682590</td>\n",
              "      <td>-1.550600</td>\n",
              "      <td>-0.346184</td>\n",
              "      <td>-0.200263</td>\n",
              "      <td>0.185216</td>\n",
              "      <td>-0.708083</td>\n",
              "      <td>-0.238393</td>\n",
              "      <td>...</td>\n",
              "      <td>-0.073513</td>\n",
              "      <td>-0.046036</td>\n",
              "      <td>0.006349</td>\n",
              "      <td>0.369625</td>\n",
              "      <td>-0.019782</td>\n",
              "      <td>1.012083</td>\n",
              "      <td>-0.031982</td>\n",
              "      <td>0.071517</td>\n",
              "      <td>1</td>\n",
              "      <td>0</td>\n",
              "    </tr>\n",
              "    <tr>\n",
              "      <th>2</th>\n",
              "      <td>0.603151</td>\n",
              "      <td>-0.682241</td>\n",
              "      <td>-0.259877</td>\n",
              "      <td>1.998890</td>\n",
              "      <td>-0.221818</td>\n",
              "      <td>-0.291492</td>\n",
              "      <td>0.736498</td>\n",
              "      <td>-0.298385</td>\n",
              "      <td>-0.633175</td>\n",
              "      <td>0.325693</td>\n",
              "      <td>...</td>\n",
              "      <td>0.096216</td>\n",
              "      <td>-0.396078</td>\n",
              "      <td>-0.441605</td>\n",
              "      <td>-0.018673</td>\n",
              "      <td>0.483193</td>\n",
              "      <td>1.011707</td>\n",
              "      <td>-0.154060</td>\n",
              "      <td>0.055141</td>\n",
              "      <td>1</td>\n",
              "      <td>0</td>\n",
              "    </tr>\n",
              "    <tr>\n",
              "      <th>3</th>\n",
              "      <td>1.069103</td>\n",
              "      <td>-0.040292</td>\n",
              "      <td>1.437476</td>\n",
              "      <td>2.879854</td>\n",
              "      <td>-0.785455</td>\n",
              "      <td>0.818819</td>\n",
              "      <td>-0.799661</td>\n",
              "      <td>0.438085</td>\n",
              "      <td>0.709929</td>\n",
              "      <td>0.389435</td>\n",
              "      <td>...</td>\n",
              "      <td>0.029056</td>\n",
              "      <td>0.399293</td>\n",
              "      <td>-0.078798</td>\n",
              "      <td>0.084000</td>\n",
              "      <td>0.487789</td>\n",
              "      <td>0.248265</td>\n",
              "      <td>0.054261</td>\n",
              "      <td>0.019949</td>\n",
              "      <td>1</td>\n",
              "      <td>0</td>\n",
              "    </tr>\n",
              "    <tr>\n",
              "      <th>4</th>\n",
              "      <td>1.948773</td>\n",
              "      <td>-0.322793</td>\n",
              "      <td>-1.117147</td>\n",
              "      <td>0.270697</td>\n",
              "      <td>0.199565</td>\n",
              "      <td>0.140961</td>\n",
              "      <td>-0.215924</td>\n",
              "      <td>0.026514</td>\n",
              "      <td>0.443915</td>\n",
              "      <td>0.214834</td>\n",
              "      <td>...</td>\n",
              "      <td>0.014251</td>\n",
              "      <td>0.080068</td>\n",
              "      <td>0.157960</td>\n",
              "      <td>0.256118</td>\n",
              "      <td>-0.162430</td>\n",
              "      <td>0.200563</td>\n",
              "      <td>-0.049039</td>\n",
              "      <td>-0.054160</td>\n",
              "      <td>1</td>\n",
              "      <td>0</td>\n",
              "    </tr>\n",
              "  </tbody>\n",
              "</table>\n",
              "<p>5 rows × 30 columns</p>\n",
              "</div>\n",
              "      <button class=\"colab-df-convert\" onclick=\"convertToInteractive('df-aa2d7578-232a-45a1-bbe1-b4e872901ac0')\"\n",
              "              title=\"Convert this dataframe to an interactive table.\"\n",
              "              style=\"display:none;\">\n",
              "        \n",
              "  <svg xmlns=\"http://www.w3.org/2000/svg\" height=\"24px\"viewBox=\"0 0 24 24\"\n",
              "       width=\"24px\">\n",
              "    <path d=\"M0 0h24v24H0V0z\" fill=\"none\"/>\n",
              "    <path d=\"M18.56 5.44l.94 2.06.94-2.06 2.06-.94-2.06-.94-.94-2.06-.94 2.06-2.06.94zm-11 1L8.5 8.5l.94-2.06 2.06-.94-2.06-.94L8.5 2.5l-.94 2.06-2.06.94zm10 10l.94 2.06.94-2.06 2.06-.94-2.06-.94-.94-2.06-.94 2.06-2.06.94z\"/><path d=\"M17.41 7.96l-1.37-1.37c-.4-.4-.92-.59-1.43-.59-.52 0-1.04.2-1.43.59L10.3 9.45l-7.72 7.72c-.78.78-.78 2.05 0 2.83L4 21.41c.39.39.9.59 1.41.59.51 0 1.02-.2 1.41-.59l7.78-7.78 2.81-2.81c.8-.78.8-2.07 0-2.86zM5.41 20L4 18.59l7.72-7.72 1.47 1.35L5.41 20z\"/>\n",
              "  </svg>\n",
              "      </button>\n",
              "      \n",
              "  <style>\n",
              "    .colab-df-container {\n",
              "      display:flex;\n",
              "      flex-wrap:wrap;\n",
              "      gap: 12px;\n",
              "    }\n",
              "\n",
              "    .colab-df-convert {\n",
              "      background-color: #E8F0FE;\n",
              "      border: none;\n",
              "      border-radius: 50%;\n",
              "      cursor: pointer;\n",
              "      display: none;\n",
              "      fill: #1967D2;\n",
              "      height: 32px;\n",
              "      padding: 0 0 0 0;\n",
              "      width: 32px;\n",
              "    }\n",
              "\n",
              "    .colab-df-convert:hover {\n",
              "      background-color: #E2EBFA;\n",
              "      box-shadow: 0px 1px 2px rgba(60, 64, 67, 0.3), 0px 1px 3px 1px rgba(60, 64, 67, 0.15);\n",
              "      fill: #174EA6;\n",
              "    }\n",
              "\n",
              "    [theme=dark] .colab-df-convert {\n",
              "      background-color: #3B4455;\n",
              "      fill: #D2E3FC;\n",
              "    }\n",
              "\n",
              "    [theme=dark] .colab-df-convert:hover {\n",
              "      background-color: #434B5C;\n",
              "      box-shadow: 0px 1px 3px 1px rgba(0, 0, 0, 0.15);\n",
              "      filter: drop-shadow(0px 1px 2px rgba(0, 0, 0, 0.3));\n",
              "      fill: #FFFFFF;\n",
              "    }\n",
              "  </style>\n",
              "\n",
              "      <script>\n",
              "        const buttonEl =\n",
              "          document.querySelector('#df-aa2d7578-232a-45a1-bbe1-b4e872901ac0 button.colab-df-convert');\n",
              "        buttonEl.style.display =\n",
              "          google.colab.kernel.accessAllowed ? 'block' : 'none';\n",
              "\n",
              "        async function convertToInteractive(key) {\n",
              "          const element = document.querySelector('#df-aa2d7578-232a-45a1-bbe1-b4e872901ac0');\n",
              "          const dataTable =\n",
              "            await google.colab.kernel.invokeFunction('convertToInteractive',\n",
              "                                                     [key], {});\n",
              "          if (!dataTable) return;\n",
              "\n",
              "          const docLinkHtml = 'Like what you see? Visit the ' +\n",
              "            '<a target=\"_blank\" href=https://colab.research.google.com/notebooks/data_table.ipynb>data table notebook</a>'\n",
              "            + ' to learn more about interactive tables.';\n",
              "          element.innerHTML = '';\n",
              "          dataTable['output_type'] = 'display_data';\n",
              "          await google.colab.output.renderOutput(dataTable, element);\n",
              "          const docLink = document.createElement('div');\n",
              "          docLink.innerHTML = docLinkHtml;\n",
              "          element.appendChild(docLink);\n",
              "        }\n",
              "      </script>\n",
              "    </div>\n",
              "  </div>\n",
              "  "
            ]
          },
          "metadata": {},
          "execution_count": 6
        }
      ],
      "source": [
        "credit_st.drop(columns = [credit_st.columns[0],credit_st.columns[1]], inplace = True)\n",
        "credit_st.head()"
      ]
    },
    {
      "cell_type": "code",
      "execution_count": null,
      "id": "d3656d0e",
      "metadata": {
        "colab": {
          "base_uri": "https://localhost:8080/"
        },
        "id": "d3656d0e",
        "outputId": "fd018c77-6d22-48e5-d4b6-742dc140cbab"
      },
      "outputs": [
        {
          "output_type": "execute_result",
          "data": {
            "text/plain": [
              "0"
            ]
          },
          "metadata": {},
          "execution_count": 7
        }
      ],
      "source": [
        "credit_st.Amount.isna().sum() # não há valores Nan"
      ]
    },
    {
      "cell_type": "code",
      "source": [
        "credit_st.dropna(inplace=True)"
      ],
      "metadata": {
        "id": "lUVotas8veAb"
      },
      "id": "lUVotas8veAb",
      "execution_count": null,
      "outputs": []
    },
    {
      "cell_type": "code",
      "source": [
        "credit_st.Amount.isna().sum() # não há valores Nan"
      ],
      "metadata": {
        "colab": {
          "base_uri": "https://localhost:8080/"
        },
        "id": "Zq8o-lRDvlKf",
        "outputId": "4fcde3b8-058e-49b3-88b6-16f0d8853375"
      },
      "id": "Zq8o-lRDvlKf",
      "execution_count": null,
      "outputs": [
        {
          "output_type": "execute_result",
          "data": {
            "text/plain": [
              "0"
            ]
          },
          "metadata": {},
          "execution_count": 9
        }
      ]
    },
    {
      "cell_type": "code",
      "execution_count": null,
      "id": "0c61b21e",
      "metadata": {
        "id": "0c61b21e"
      },
      "outputs": [],
      "source": [
        "X_st, y_st = credit_st.iloc[:,:-2],credit_st.iloc[:,-1]"
      ]
    },
    {
      "cell_type": "code",
      "execution_count": null,
      "id": "38978cb9",
      "metadata": {
        "colab": {
          "base_uri": "https://localhost:8080/"
        },
        "id": "38978cb9",
        "outputId": "410fe999-a5a5-4b22-cd53-df4651427678"
      },
      "outputs": [
        {
          "output_type": "execute_result",
          "data": {
            "text/plain": [
              "0"
            ]
          },
          "metadata": {},
          "execution_count": 11
        }
      ],
      "source": [
        "credit_test.Amount.isna().sum() # não ha valores Nan"
      ]
    },
    {
      "cell_type": "code",
      "execution_count": null,
      "id": "01e429c3",
      "metadata": {
        "id": "01e429c3"
      },
      "outputs": [],
      "source": [
        "credit_test.drop(columns = [credit_test.columns[0],credit_test.columns[1]], inplace = True)"
      ]
    },
    {
      "cell_type": "code",
      "execution_count": null,
      "id": "0f3ccd94",
      "metadata": {
        "id": "0f3ccd94"
      },
      "outputs": [],
      "source": [
        "X_test, y_test = credit_test.iloc[:,:-2],credit_test.iloc[:,-1]"
      ]
    },
    {
      "cell_type": "code",
      "execution_count": null,
      "id": "fb1cbf59",
      "metadata": {
        "id": "fb1cbf59"
      },
      "outputs": [],
      "source": [
        "#Criando função para plotar matriz de confusão\n",
        "def plot_matriz_conf(y, y_hat):\n",
        "    from sklearn.metrics import confusion_matrix\n",
        "    cm = confusion_matrix(y, y_hat)\n",
        "    sns.heatmap(cm, annot=True)\n",
        "    plt.ylabel('Rótulos verdadeiros')\n",
        "    plt.xlabel('Rótulos previstos')\n",
        "    plt.xticks([.5,1.5],['Não Houve fraude','houve fraude'], rotation=0)\n",
        "    plt.yticks([0.5,1.5],['Não Houve fraude','houve fraude'],rotation=0)\n",
        "    plt.title('Matriz de Confusão')"
      ]
    },
    {
      "cell_type": "markdown",
      "id": "c29263cd",
      "metadata": {
        "id": "c29263cd"
      },
      "source": [
        "# Testando um modelo de Tree"
      ]
    },
    {
      "cell_type": "code",
      "execution_count": null,
      "id": "3e953012",
      "metadata": {
        "id": "3e953012"
      },
      "outputs": [],
      "source": [
        "from sklearn.tree import DecisionTreeClassifier\n",
        "from sklearn.model_selection import GridSearchCV"
      ]
    },
    {
      "cell_type": "code",
      "execution_count": null,
      "id": "64860668",
      "metadata": {
        "colab": {
          "base_uri": "https://localhost:8080/",
          "height": 908
        },
        "id": "64860668",
        "outputId": "4e222f42-759e-4b07-f4c0-8bfd5b73bd55"
      },
      "outputs": [
        {
          "output_type": "stream",
          "name": "stdout",
          "text": [
            "Fitting 5 folds for each of 20 candidates, totalling 100 fits\n",
            "Fitting 5 folds for each of 20 candidates, totalling 100 fits\n"
          ]
        },
        {
          "output_type": "display_data",
          "data": {
            "text/plain": [
              "<Figure size 864x864 with 4 Axes>"
            ],
            "image/png": "[encoded data removed]"
          },
          "metadata": {
            "needs_background": "light"
          }
        }
      ],
      "source": [
        "params = {'max_depth':[2,4,6,8,10], 'criterion':['gini','entropy'],'splitter':['best','random']} #Parâmetros para testar\n",
        "lista_modelo = [(X_st,y_st),(X_tl,y_tl)]\n",
        "modelo = []\n",
        "fig = plt.figure(figsize = (12,12))\n",
        "\n",
        "for i in range(len(lista_modelo)):  \n",
        "    tree_clf = DecisionTreeClassifier()\n",
        "    tree_grid = GridSearchCV(tree_clf,params,verbose=1,cv=5)\n",
        "    tree_grid.fit(lista_modelo[i][0], lista_modelo[i][1])\n",
        "    modelo.append(tree_grid)          #Guarda o melhor modelo\n",
        "    y_hat = tree_grid.predict(X_test) #Prevê os rótulos para o conjunto de testes\n",
        "    fig.add_subplot(210+i+1)\n",
        "    plot_matriz_conf(y_test, y_hat)   #Plota a matriz de confusão do melhor modelo\n",
        "  \n",
        "fig.tight_layout()\n",
        "plt.show()"
      ]
    },
    {
      "cell_type": "markdown",
      "source": [
        "### Modelo Tree\n",
        "A primeira matriz de confusão foi obtida do modelo treinado com os dados que passaram po SMOTETomek, o modelo apresenta excelente acurácia, isso é comum em conjuntos desbalanceados, o modelo é muito bom em prever a classe majoritária, falha, porém, em prever quando há fraude. O recall obtido nesse primeiro modelo foi de 81,44%. Neste projeto tomaremos como desafio melhorar o recall, pois outras etapas podem ser aplicadas depois para filtrar falsos verdadeiros.\n",
        "\n",
        "A segunda matriz corresponde ao modelo treinado no conjunto de dados que passaram por Tomek apenas. Ela obteve uma alta precisão, mas perdeu em recall.\n",
        "\n",
        "\n",
        "*   Precisão: 83,33%\n",
        "*   Recall: 72,16%\n",
        "\n",
        "Como queremos melhorar o recall, o primeiro modelo de árvore é melhor.\n",
        "\n"
      ],
      "metadata": {
        "id": "EStA7JPpe47U"
      },
      "id": "EStA7JPpe47U"
    },
    {
      "cell_type": "markdown",
      "source": [
        "# Testando KNeighbors\n",
        "\n",
        "\n",
        "\n",
        "\n"
      ],
      "metadata": {
        "id": "1XISvy0Nk4VL"
      },
      "id": "1XISvy0Nk4VL"
    },
    {
      "cell_type": "code",
      "execution_count": null,
      "id": "ce285ad2",
      "metadata": {
        "id": "ce285ad2"
      },
      "outputs": [],
      "source": [
        "from sklearn.neighbors import KNeighborsClassifier"
      ]
    },
    {
      "cell_type": "code",
      "execution_count": null,
      "id": "aae7a70b",
      "metadata": {
        "colab": {
          "base_uri": "https://localhost:8080/",
          "height": 908
        },
        "id": "aae7a70b",
        "outputId": "a800f30d-eaf1-42be-c4ab-071229232107"
      },
      "outputs": [
        {
          "metadata": {
            "tags": null
          },
          "name": "stdout",
          "output_type": "stream",
          "text": [
            "Fitting 3 folds for each of 5 candidates, totalling 15 fits\n",
            "Fitting 3 folds for each of 5 candidates, totalling 15 fits\n"
          ]
        },
        {
          "output_type": "display_data",
          "data": {
            "text/plain": [
              "<Figure size 864x864 with 4 Axes>"
            ],
            "image/png": "[encoded data removed]"
          },
          "metadata": {
            "needs_background": "light"
          }
        }
      ],
      "source": [
        "params = {'n_neighbors': [ 4, 5, 6, 7, 8]} #Parâmetros para testar\n",
        "lista_modelo2 = [(X_st,y_st),(X_tl,y_tl)]\n",
        "modelo2 = []\n",
        "fig = plt.figure(figsize=(12,12))\n",
        "\n",
        "for i in range(len(lista_modelo2)):  \n",
        "    knn_clf = KNeighborsClassifier()\n",
        "    knn_grid = GridSearchCV(knn_clf, params, verbose=1, cv=3)\n",
        "    knn_grid.fit(lista_modelo2[i][0], lista_modelo2[i][1])\n",
        "    modelo2.append(knn_grid)  #Guarda o melhor modelo\n",
        "    y_hat = knn_grid.predict(X_test) #Prevê os rótulos para o conjunto de testes\n",
        "    fig.add_subplot(210+i+1)\n",
        "    plot_matriz_conf(y_test, y_hat)   #Plota a matriz de confusão do melhor modelo\n",
        "\n",
        "fig.tight_layout()\n",
        "plt.show()"
      ]
    },
    {
      "cell_type": "markdown",
      "source": [
        "### Modelo Kneighbors\n",
        "\n",
        "Os dois fits do modelo foram superiores a árvore de decisão. O modelo para SMOTETomek foi muito superior a sua contraparte do modelo tree, o número de falsos positivos caiu de 460 para 37. O recall foi o mesmo para os dois modelos, porém o salto de qualidade na precisão do modelo torna o modelo de Kneighbors melhor no conjunto de dados SMOTETomek.\n",
        "\n",
        "* Precisão: 68,10%\n",
        "* Recall: 81,44%\n",
        "\n",
        "O uso de TomekLinks ajudou o modelo a ter uma melhor precisão, dessa vez errou apenas 6 vezes quando disse que houve fraude. No geral o modelo performa bem, mas vamos tentar obter melhores recalls com redes neurais.\n",
        "\n",
        "* Precisão: 92,3%\n",
        "* Recall: 72,2%"
      ],
      "metadata": {
        "id": "3if9TwdqnHiF"
      },
      "id": "3if9TwdqnHiF"
    },
    {
      "cell_type": "code",
      "source": [],
      "metadata": {
        "id": "_YQf33upr-Al"
      },
      "id": "_YQf33upr-Al",
      "execution_count": null,
      "outputs": []
    }
  ],
  "metadata": {
    "kernelspec": {
      "display_name": "Python 3 (ipykernel)",
      "language": "python",
      "name": "python3"
    },
    "language_info": {
      "codemirror_mode": {
        "name": "ipython",
        "version": 3
      },
      "file_extension": ".py",
      "mimetype": "text/x-python",
      "name": "python",
      "nbconvert_exporter": "python",
      "pygments_lexer": "ipython3",
      "version": "3.9.12"
    },
    "colab": {
      "provenance": []
    },
    "accelerator": "GPU",
    "gpuClass": "standard"
  },
  "nbformat": 4,
  "nbformat_minor": 5
}