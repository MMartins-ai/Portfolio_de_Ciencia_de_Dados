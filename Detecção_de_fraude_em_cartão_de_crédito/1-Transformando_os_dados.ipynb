{
 "cells": [
  {
   "cell_type": "markdown",
   "id": "207beb74",
   "metadata": {},
   "source": [
    "# Técnicas de resample \n",
    "\n",
    "Neste notebook, transformarei os dados utilizando técnicas de resample para podermos treinar os modelos\n",
    "\n",
    "Mateus de Sousa Martins\n",
    "\n",
    "mateus.martins8605@gmail.com"
   ]
  },
  {
   "cell_type": "code",
   "execution_count": 1,
   "id": "43fa873d",
   "metadata": {},
   "outputs": [],
   "source": [
    "#importando bibliotecas \n",
    "import numpy as np\n",
    "import pandas as pd\n",
    "import seaborn as sns\n",
    "import matplotlib.pyplot as plt"
   ]
  },
  {
   "cell_type": "code",
   "execution_count": 2,
   "id": "ce7f5166",
   "metadata": {},
   "outputs": [
    {
     "data": {
      "text/html": [
       "<div>\n",
       "<style scoped>\n",
       "    .dataframe tbody tr th:only-of-type {\n",
       "        vertical-align: middle;\n",
       "    }\n",
       "\n",
       "    .dataframe tbody tr th {\n",
       "        vertical-align: top;\n",
       "    }\n",
       "\n",
       "    .dataframe thead th {\n",
       "        text-align: right;\n",
       "    }\n",
       "</style>\n",
       "<table border=\"1\" class=\"dataframe\">\n",
       "  <thead>\n",
       "    <tr style=\"text-align: right;\">\n",
       "      <th></th>\n",
       "      <th>Time</th>\n",
       "      <th>V1</th>\n",
       "      <th>V2</th>\n",
       "      <th>V3</th>\n",
       "      <th>V4</th>\n",
       "      <th>V5</th>\n",
       "      <th>V6</th>\n",
       "      <th>V7</th>\n",
       "      <th>V8</th>\n",
       "      <th>V9</th>\n",
       "      <th>...</th>\n",
       "      <th>V21</th>\n",
       "      <th>V22</th>\n",
       "      <th>V23</th>\n",
       "      <th>V24</th>\n",
       "      <th>V25</th>\n",
       "      <th>V26</th>\n",
       "      <th>V27</th>\n",
       "      <th>V28</th>\n",
       "      <th>Amount</th>\n",
       "      <th>Class</th>\n",
       "    </tr>\n",
       "  </thead>\n",
       "  <tbody>\n",
       "    <tr>\n",
       "      <th>0</th>\n",
       "      <td>0.0</td>\n",
       "      <td>-1.359807</td>\n",
       "      <td>-0.072781</td>\n",
       "      <td>2.536347</td>\n",
       "      <td>1.378155</td>\n",
       "      <td>-0.338321</td>\n",
       "      <td>0.462388</td>\n",
       "      <td>0.239599</td>\n",
       "      <td>0.098698</td>\n",
       "      <td>0.363787</td>\n",
       "      <td>...</td>\n",
       "      <td>-0.018307</td>\n",
       "      <td>0.277838</td>\n",
       "      <td>-0.110474</td>\n",
       "      <td>0.066928</td>\n",
       "      <td>0.128539</td>\n",
       "      <td>-0.189115</td>\n",
       "      <td>0.133558</td>\n",
       "      <td>-0.021053</td>\n",
       "      <td>149.62</td>\n",
       "      <td>0</td>\n",
       "    </tr>\n",
       "    <tr>\n",
       "      <th>1</th>\n",
       "      <td>0.0</td>\n",
       "      <td>1.191857</td>\n",
       "      <td>0.266151</td>\n",
       "      <td>0.166480</td>\n",
       "      <td>0.448154</td>\n",
       "      <td>0.060018</td>\n",
       "      <td>-0.082361</td>\n",
       "      <td>-0.078803</td>\n",
       "      <td>0.085102</td>\n",
       "      <td>-0.255425</td>\n",
       "      <td>...</td>\n",
       "      <td>-0.225775</td>\n",
       "      <td>-0.638672</td>\n",
       "      <td>0.101288</td>\n",
       "      <td>-0.339846</td>\n",
       "      <td>0.167170</td>\n",
       "      <td>0.125895</td>\n",
       "      <td>-0.008983</td>\n",
       "      <td>0.014724</td>\n",
       "      <td>2.69</td>\n",
       "      <td>0</td>\n",
       "    </tr>\n",
       "    <tr>\n",
       "      <th>2</th>\n",
       "      <td>1.0</td>\n",
       "      <td>-1.358354</td>\n",
       "      <td>-1.340163</td>\n",
       "      <td>1.773209</td>\n",
       "      <td>0.379780</td>\n",
       "      <td>-0.503198</td>\n",
       "      <td>1.800499</td>\n",
       "      <td>0.791461</td>\n",
       "      <td>0.247676</td>\n",
       "      <td>-1.514654</td>\n",
       "      <td>...</td>\n",
       "      <td>0.247998</td>\n",
       "      <td>0.771679</td>\n",
       "      <td>0.909412</td>\n",
       "      <td>-0.689281</td>\n",
       "      <td>-0.327642</td>\n",
       "      <td>-0.139097</td>\n",
       "      <td>-0.055353</td>\n",
       "      <td>-0.059752</td>\n",
       "      <td>378.66</td>\n",
       "      <td>0</td>\n",
       "    </tr>\n",
       "    <tr>\n",
       "      <th>3</th>\n",
       "      <td>1.0</td>\n",
       "      <td>-0.966272</td>\n",
       "      <td>-0.185226</td>\n",
       "      <td>1.792993</td>\n",
       "      <td>-0.863291</td>\n",
       "      <td>-0.010309</td>\n",
       "      <td>1.247203</td>\n",
       "      <td>0.237609</td>\n",
       "      <td>0.377436</td>\n",
       "      <td>-1.387024</td>\n",
       "      <td>...</td>\n",
       "      <td>-0.108300</td>\n",
       "      <td>0.005274</td>\n",
       "      <td>-0.190321</td>\n",
       "      <td>-1.175575</td>\n",
       "      <td>0.647376</td>\n",
       "      <td>-0.221929</td>\n",
       "      <td>0.062723</td>\n",
       "      <td>0.061458</td>\n",
       "      <td>123.50</td>\n",
       "      <td>0</td>\n",
       "    </tr>\n",
       "    <tr>\n",
       "      <th>4</th>\n",
       "      <td>2.0</td>\n",
       "      <td>-1.158233</td>\n",
       "      <td>0.877737</td>\n",
       "      <td>1.548718</td>\n",
       "      <td>0.403034</td>\n",
       "      <td>-0.407193</td>\n",
       "      <td>0.095921</td>\n",
       "      <td>0.592941</td>\n",
       "      <td>-0.270533</td>\n",
       "      <td>0.817739</td>\n",
       "      <td>...</td>\n",
       "      <td>-0.009431</td>\n",
       "      <td>0.798278</td>\n",
       "      <td>-0.137458</td>\n",
       "      <td>0.141267</td>\n",
       "      <td>-0.206010</td>\n",
       "      <td>0.502292</td>\n",
       "      <td>0.219422</td>\n",
       "      <td>0.215153</td>\n",
       "      <td>69.99</td>\n",
       "      <td>0</td>\n",
       "    </tr>\n",
       "  </tbody>\n",
       "</table>\n",
       "<p>5 rows × 31 columns</p>\n",
       "</div>"
      ],
      "text/plain": [
       "   Time        V1        V2        V3        V4        V5        V6        V7  \\\n",
       "0   0.0 -1.359807 -0.072781  2.536347  1.378155 -0.338321  0.462388  0.239599   \n",
       "1   0.0  1.191857  0.266151  0.166480  0.448154  0.060018 -0.082361 -0.078803   \n",
       "2   1.0 -1.358354 -1.340163  1.773209  0.379780 -0.503198  1.800499  0.791461   \n",
       "3   1.0 -0.966272 -0.185226  1.792993 -0.863291 -0.010309  1.247203  0.237609   \n",
       "4   2.0 -1.158233  0.877737  1.548718  0.403034 -0.407193  0.095921  0.592941   \n",
       "\n",
       "         V8        V9  ...       V21       V22       V23       V24       V25  \\\n",
       "0  0.098698  0.363787  ... -0.018307  0.277838 -0.110474  0.066928  0.128539   \n",
       "1  0.085102 -0.255425  ... -0.225775 -0.638672  0.101288 -0.339846  0.167170   \n",
       "2  0.247676 -1.514654  ...  0.247998  0.771679  0.909412 -0.689281 -0.327642   \n",
       "3  0.377436 -1.387024  ... -0.108300  0.005274 -0.190321 -1.175575  0.647376   \n",
       "4 -0.270533  0.817739  ... -0.009431  0.798278 -0.137458  0.141267 -0.206010   \n",
       "\n",
       "        V26       V27       V28  Amount  Class  \n",
       "0 -0.189115  0.133558 -0.021053  149.62      0  \n",
       "1  0.125895 -0.008983  0.014724    2.69      0  \n",
       "2 -0.139097 -0.055353 -0.059752  378.66      0  \n",
       "3 -0.221929  0.062723  0.061458  123.50      0  \n",
       "4  0.502292  0.219422  0.215153   69.99      0  \n",
       "\n",
       "[5 rows x 31 columns]"
      ]
     },
     "execution_count": 2,
     "metadata": {},
     "output_type": "execute_result"
    }
   ],
   "source": [
    "credit = pd.read_csv('creditcard.csv') #importando o arquivo csv obtidono site da Kaggle para mais informações https://www.kaggle.com/datasets/mlg-ulb/creditcardfraud\n",
    "credit.head() #visualizando as 5 primeiras linhas"
   ]
  },
  {
   "cell_type": "markdown",
   "id": "81b7aa61",
   "metadata": {},
   "source": [
    "Conteúdo do DataFrame\n",
    "* Time indica o tempo, em segundos, que se passou desde a primeira transação registrada;\n",
    "* V1 a V28 passaram por uma transformação PCA para proteger os dados dos clientes, não é possível afirmar o que cada coluna significa;\n",
    "* Amount significa o valor da transação;\n",
    "* Class indica se houve ou não fraude, 0 se não houve, 1 caso contrário."
   ]
  },
  {
   "cell_type": "code",
   "execution_count": 3,
   "id": "be435e19",
   "metadata": {},
   "outputs": [
    {
     "name": "stdout",
     "output_type": "stream",
     "text": [
      "Temos 284807 amostra de dados.\n",
      "Existem 30 variáveis\n"
     ]
    }
   ],
   "source": [
    "print(f'Temos {credit.shape[0]} amostra de dados.')\n",
    "print(f'Existem {credit.shape[1]-1} variáveis') #-1 para excluir a coluna class, que não será uma variável e sim o alvo do modelo"
   ]
  },
  {
   "cell_type": "code",
   "execution_count": 4,
   "id": "17670a51",
   "metadata": {},
   "outputs": [
    {
     "name": "stdout",
     "output_type": "stream",
     "text": [
      "A porcentagem de dados que indicam a ocorrência de fraude é de 0.17%\n"
     ]
    }
   ],
   "source": [
    "# Porcentagem de dados que indicam fraude\n",
    "print(f'A porcentagem de dados que indicam a ocorrência de fraude é de {credit[\"Class\"].mean()*100:.2f}%')"
   ]
  },
  {
   "cell_type": "code",
   "execution_count": 5,
   "id": "6f2af2eb",
   "metadata": {},
   "outputs": [
    {
     "data": {
      "text/plain": [
       "0    284315\n",
       "1       492\n",
       "Name: Class, dtype: int64"
      ]
     },
     "execution_count": 5,
     "metadata": {},
     "output_type": "execute_result"
    }
   ],
   "source": [
    "credit.Class.value_counts() # Existem 492 ocorrências de fraude"
   ]
  },
  {
   "cell_type": "code",
   "execution_count": 6,
   "id": "31784745",
   "metadata": {},
   "outputs": [],
   "source": [
    "#Mudando a variável amount por uma discreta\n",
    "disc = np.linspace(credit['Amount'].min(),credit['Amount'].max(),10)\n",
    "disc[-1] = np.inf\n",
    "disc[0] = -np.inf\n",
    "credit['Amount'] = pd.cut(credit['Amount'],bins= disc,labels=list(range(1,len(disc))))"
   ]
  },
  {
   "cell_type": "code",
   "execution_count": 7,
   "id": "7e83c666",
   "metadata": {},
   "outputs": [
    {
     "data": {
      "text/plain": [
       "1    284484\n",
       "2       285\n",
       "3        28\n",
       "4         4\n",
       "5         3\n",
       "7         2\n",
       "9         1\n",
       "6         0\n",
       "8         0\n",
       "Name: Amount, dtype: int64"
      ]
     },
     "execution_count": 7,
     "metadata": {},
     "output_type": "execute_result"
    }
   ],
   "source": [
    "credit.Amount.value_counts()"
   ]
  },
  {
   "cell_type": "code",
   "execution_count": 8,
   "id": "f1dd30a9",
   "metadata": {},
   "outputs": [
    {
     "data": {
      "text/plain": [
       "1    492\n",
       "2      0\n",
       "3      0\n",
       "4      0\n",
       "5      0\n",
       "6      0\n",
       "7      0\n",
       "8      0\n",
       "9      0\n",
       "Name: Amount, dtype: int64"
      ]
     },
     "execution_count": 8,
     "metadata": {},
     "output_type": "execute_result"
    }
   ],
   "source": [
    "credit_mod = credit[credit['Class']==1]\n",
    "credit_mod.Amount.value_counts()\n",
    "# Todos os golpes ocorrem para pequenos valores, entre 0 e 2854"
   ]
  },
  {
   "cell_type": "code",
   "execution_count": 11,
   "id": "88f720b2",
   "metadata": {},
   "outputs": [],
   "source": [
    "X = credit.iloc[:,:-1]\n",
    "y = credit.iloc[:,-1]"
   ]
  },
  {
   "cell_type": "code",
   "execution_count": 13,
   "id": "32b773e3",
   "metadata": {},
   "outputs": [],
   "source": [
    "from sklearn.model_selection import train_test_split\n",
    "\n",
    "X, X_test, y, y_test = train_test_split(X,y, test_size=0.2)"
   ]
  },
  {
   "cell_type": "markdown",
   "id": "0bcd4b60",
   "metadata": {},
   "source": [
    "# Resample"
   ]
  },
  {
   "cell_type": "markdown",
   "id": "a396d758",
   "metadata": {},
   "source": [
    "A biblioteca imblearn é utilizada para tratamento de dados em aprendizado desbalanceado. Ela funciona bem com as bibliotecas sklearn e tensorflow."
   ]
  },
  {
   "cell_type": "code",
   "execution_count": 14,
   "id": "27b54638",
   "metadata": {},
   "outputs": [],
   "source": [
    "from imblearn.under_sampling import TomekLinks\n",
    "from imblearn.combine import SMOTETomek"
   ]
  },
  {
   "cell_type": "markdown",
   "id": "3ac6f147",
   "metadata": {},
   "source": [
    "Tomek Links toma a distância entre um dado da classe minoritária e o seu par mais próxima da classe majoritária. Existe uma distância de threshold de modo que se a distância entre esses pares for menos, o dado da classe majoritária é eliminado, por padrão, também é possível modificar para apagar os dados da classe minoritária ou o par.\n",
    "\n",
    "SMOTE é o nome da técnica que cria dados artificiais da classe minoritária introduzindo ruído aos dados. SOMOTETomek aplica SMOTE e depois Tomek."
   ]
  },
  {
   "cell_type": "code",
   "execution_count": 15,
   "id": "e8376a80",
   "metadata": {},
   "outputs": [
    {
     "name": "stdout",
     "output_type": "stream",
     "text": [
      "Quantidade de Links removidos 17\n"
     ]
    }
   ],
   "source": [
    "# Começando por TomekLinks\n",
    "tl = TomekLinks(sampling_strategy = 'majority')\n",
    "\n",
    "X_tl, y_tl = tl.fit_resample(X,y)\n",
    "\n",
    "print(f\"Quantidade de Links removidos {X.shape[0]-X_tl.shape[0]}\")\n"
   ]
  },
  {
   "cell_type": "code",
   "execution_count": 16,
   "id": "df1ad199",
   "metadata": {},
   "outputs": [],
   "source": [
    "st = SMOTETomek(sampling_strategy = 'auto')\n",
    "X_st, y_st = st.fit_resample(X,y)"
   ]
  },
  {
   "cell_type": "markdown",
   "id": "1e9ae2dc",
   "metadata": {},
   "source": [
    "# Exportando os dados"
   ]
  },
  {
   "cell_type": "code",
   "execution_count": 18,
   "id": "69b16f00",
   "metadata": {},
   "outputs": [],
   "source": [
    "df_tl = pd.concat([X_tl,y_tl],axis=1)\n",
    "df_st = pd.concat([X_st,y_st],axis=1)"
   ]
  },
  {
   "cell_type": "code",
   "execution_count": 19,
   "id": "c987eb34",
   "metadata": {},
   "outputs": [],
   "source": [
    "df_tl.to_csv('credit_tl.csv')\n",
    "df_st.to_csv('credit_st.csv')"
   ]
  },
  {
   "cell_type": "code",
   "execution_count": 22,
   "id": "d590fe0e",
   "metadata": {},
   "outputs": [],
   "source": [
    "df_teste = pd.concat([X_test,y_test],axis=1)\n",
    "df_teste.to_csv('credit_teste.csv')"
   ]
  },
  {
   "cell_type": "code",
   "execution_count": null,
   "id": "bf4fd477",
   "metadata": {},
   "outputs": [],
   "source": []
  }
 ],
 "metadata": {
  "kernelspec": {
   "display_name": "Python 3 (ipykernel)",
   "language": "python",
   "name": "python3"
  },
  "language_info": {
   "codemirror_mode": {
    "name": "ipython",
    "version": 3
   },
   "file_extension": ".py",
   "mimetype": "text/x-python",
   "name": "python",
   "nbconvert_exporter": "python",
   "pygments_lexer": "ipython3",
   "version": "3.9.12"
  }
 },
 "nbformat": 4,
 "nbformat_minor": 5
}
